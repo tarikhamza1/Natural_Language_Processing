{
 "cells": [
  {
   "cell_type": "markdown",
   "metadata": {},
   "source": [
    "# Unit 12 - Tales from the Crypto\n",
    "\n",
    "---\n"
   ]
  },
  {
   "cell_type": "markdown",
   "metadata": {},
   "source": [
    "## 1. Sentiment Analysis\n",
    "\n",
    "Use the [newsapi](https://newsapi.org/) to pull the latest news articles for Bitcoin and Ethereum and create a DataFrame of sentiment scores for each coin.\n",
    "\n",
    "Use descriptive statistics to answer the following questions:\n",
    "1. Which coin had the highest mean positive score?\n",
    "2. Which coin had the highest negative score?\n",
    "3. Which coin had the highest positive score?"
   ]
  },
  {
   "cell_type": "code",
   "execution_count": 39,
   "metadata": {},
   "outputs": [
    {
     "name": "stderr",
     "output_type": "stream",
     "text": [
      "[nltk_data] Downloading package vader_lexicon to\n",
      "[nltk_data]     C:\\Users\\tarik\\AppData\\Roaming\\nltk_data...\n",
      "[nltk_data]   Package vader_lexicon is already up-to-date!\n"
     ]
    }
   ],
   "source": [
    "# Initial imports\n",
    "import os\n",
    "import pandas as pd\n",
    "from dotenv import load_dotenv\n",
    "import nltk as nltk\n",
    "nltk.download('vader_lexicon')\n",
    "from nltk.sentiment.vader import SentimentIntensityAnalyzer\n",
    "analyzer = SentimentIntensityAnalyzer()\n",
    "from newsapi import NewsApiClient\n",
    "\n",
    "%load_ext dotenv\n",
    "%dotenv\n",
    "%matplotlib inline"
   ]
  },
  {
   "cell_type": "code",
   "execution_count": 40,
   "metadata": {},
   "outputs": [
    {
     "name": "stdout",
     "output_type": "stream",
     "text": [
      "c98267b6659e415f8c45fd75296a229a\n"
     ]
    }
   ],
   "source": [
    "# Read your api key environment variable\n",
    "api_key = os.getenv(\"news_api\")\n",
    "print(api_key)"
   ]
  },
  {
   "cell_type": "code",
   "execution_count": 42,
   "metadata": {},
   "outputs": [],
   "source": [
    "# Create a newsapi client\n",
    "newsapi = NewsApiClient(api_key=api_key)"
   ]
  },
  {
   "cell_type": "code",
   "execution_count": 47,
   "metadata": {},
   "outputs": [
    {
     "data": {
      "text/plain": [
       "{'status': 'ok',\n",
       " 'totalResults': 8534,\n",
       " 'articles': [{'source': {'id': 'cnn', 'name': 'CNN'},\n",
       "   'author': None,\n",
       "   'title': 'Is Bitcoin a safe bet?',\n",
       "   'description': 'The digital cryptocurrency Bitcoin has tripled in value in the past three years. Will the boom only lead to a bigger bust?',\n",
       "   'url': 'https://www.cnn.com/videos/business/2021/02/20/is-bitcoin-a-safe-bet-smerconish-vpx.cnn',\n",
       "   'urlToImage': 'https://cdn.cnn.com/cnnnext/dam/assets/210220112649-smerconish-bitcoin-guests-split-super-tease.jpg',\n",
       "   'publishedAt': '2021-02-20T17:12:04Z',\n",
       "   'content': None},\n",
       "  {'source': {'id': 'mashable', 'name': 'Mashable'},\n",
       "   'author': 'Jack Morse',\n",
       "   'title': 'Coinbase says unmasking Satoshi Nakamoto might harm its business',\n",
       "   'description': 'Some things are best left a mystery — at least as far as Coinbase is concerned.\\xa0\\nThe San Francisco-based cryptocurrency exchange has been preparing to go public since last year, and in a Thursday prospectus filed with the Securities and Exchange Commission (S…',\n",
       "   'url': 'https://mashable.com/article/coinbase-direct-listing-unmasking-bitcoin-creator-satoshi-nakamoto/',\n",
       "   'urlToImage': 'https://mondrian.mashable.com/2021%252F02%252F26%252Fe8%252F17dd59c8ab704170bf5e29da12d9ebbf.c6b86.jpg%252F1200x630.jpg?signature=Fs2g1MN2HN_UfNi1kogIjVxyo8E=',\n",
       "   'publishedAt': '2021-02-26T00:40:52Z',\n",
       "   'content': 'Some things are best left a mystery at least as far as Coinbase is concerned.\\xa0\\r\\nThe San Francisco-based cryptocurrency exchange has been preparing to go public since last year, and in a Thursday pros… [+1953 chars]'},\n",
       "  {'source': {'id': 'cnn', 'name': 'CNN'},\n",
       "   'author': 'Julia Horowitz, CNN Business',\n",
       "   'title': 'How bitcoin is like a teenager',\n",
       "   'description': 'With the value of bitcoin in the market topping $1 trillion, longtime backers may be wiping tears from their eyes. The cryptocurrency is growing up.',\n",
       "   'url': 'https://www.cnn.com/2021/02/21/investing/stocks-week-ahead/index.html',\n",
       "   'urlToImage': 'https://cdn.cnn.com/cnnnext/dam/assets/201124080935-02-bitcoin---stock-super-tease.jpg',\n",
       "   'publishedAt': '2021-02-21T13:50:55Z',\n",
       "   'content': None},\n",
       "  {'source': {'id': 'cnn', 'name': 'CNN'},\n",
       "   'author': None,\n",
       "   'title': 'Why bitcoin could triple over next year',\n",
       "   'description': \"William Quigley, managing director of Magnetic, explains why he believes that bitcoin's value can still rise dramatically into 2022.\",\n",
       "   'url': 'https://www.cnn.com/videos/business/2021/03/03/bitcoin-crypto-william-quigley-markets-now.cnn-business',\n",
       "   'urlToImage': 'https://cdn.cnn.com/cnnnext/dam/assets/210219081655-02-bitcoin-file-super-tease.jpg',\n",
       "   'publishedAt': '2021-03-03T19:10:57Z',\n",
       "   'content': ''},\n",
       "  {'source': {'id': None, 'name': 'Gizmodo.com'},\n",
       "   'author': 'Whitney Kimball',\n",
       "   'title': 'Bitcoin Hit All-Time High at Over $50,000, Leaving Us in Dire Need of Sound Financial Advice',\n",
       "   'description': 'Bitcoin is the future, again: this morning, it hit an all-time high value of over $50,000. Is there a lesson in here? Are Elon Musk’s tweets a good investment strategy? Should we get in on this? We have yet to learn. Or maybe we learn nothing, and the notorio…',\n",
       "   'url': 'https://gizmodo.com/bitcoin-hit-all-time-high-at-over-50-000-leaving-us-i-1846279042',\n",
       "   'urlToImage': 'https://i.kinja-img.com/gawker-media/image/upload/c_fill,f_auto,fl_progressive,g_center,h_675,pg_1,q_80,w_1200/vroqydxxgqalz1hstjw8.jpg',\n",
       "   'publishedAt': '2021-02-16T17:45:00Z',\n",
       "   'content': 'Bitcoin is the future, again: this morning, it hit an all-time high value of over $50,000. Is there a lesson in here? Are Elon Musks tweets a good investment strategy? Should we get in on this? We ha… [+3198 chars]'},\n",
       "  {'source': {'id': None, 'name': 'Gizmodo.com'},\n",
       "   'author': 'Rhett Jones',\n",
       "   'title': 'Miami May Start Paying City Employees in Bitcoin',\n",
       "   'description': 'Miami’s mayor, Francis Suarez, is champing at the bit to rebrand his city as a haven for tech entrepreneurs and the tax dollars that come in their wake. His latest branding effort involves a push to make the city offer its municipal workers the option to get …',\n",
       "   'url': 'https://gizmodo.com/miami-may-start-paying-city-employees-in-bitcoin-1846258140',\n",
       "   'urlToImage': 'https://i.kinja-img.com/gawker-media/image/upload/c_fill,f_auto,fl_progressive,g_center,h_675,pg_1,q_80,w_1200/yz0ysmubeluo7pxjdw9p.jpg',\n",
       "   'publishedAt': '2021-02-12T18:00:00Z',\n",
       "   'content': 'Miamis mayor, Francis Suarez, is champing at the bit to rebrand his city as a haven for tech entrepreneurs and the tax dollars that come in their wake. His latest branding effort involves a push to m… [+2454 chars]'},\n",
       "  {'source': {'id': 'techcrunch', 'name': 'TechCrunch'},\n",
       "   'author': 'Anthony Ha',\n",
       "   'title': 'Daily Crunch: Jack Dorsey and Jay Z invest in bitcoin development',\n",
       "   'description': 'Jack Dorsey and Jay Z create a bitcoin endowment, Datadog acquires a Startup Battlefield company and BuzzFeed experiments with AI-generated quizzes. This is your Daily Crunch for February 12, 2021. Oh, and before we get started: Consider applying to the Early…',\n",
       "   'url': 'http://techcrunch.com/2021/02/12/daily-crunch-jack-dorsey-and-jay-z-invest-in-bitcoin-development/',\n",
       "   'urlToImage': 'https://techcrunch.com/wp-content/uploads/2020/07/GettyImages-887657568.jpg?w=600',\n",
       "   'publishedAt': '2021-02-12T23:10:51Z',\n",
       "   'content': 'Jack Dorsey and Jay Z create a bitcoin endowment, Datadog acquires a Startup Battlefield company and BuzzFeed experiments with AI-generated quizzes. This is your Daily Crunch for February 12, 2021.\\r\\n… [+2805 chars]'},\n",
       "  {'source': {'id': None, 'name': 'Gizmodo.com'},\n",
       "   'author': 'Alyse Stanley',\n",
       "   'title': 'Bitcoin Burning a Hole in Your Pocket? Now You Can Spend It Using Apple Pay',\n",
       "   'description': 'In case you haven’t noticed, Bitcoin’s having a bit of a moment. The cryptocurrency’s value reached record heights in recent weeks, you’ll soon be able to buy a Tesla with it, and, as of Friday, you can now spend Bitcoin (and other cryptocurrencies) via Apple…',\n",
       "   'url': 'https://gizmodo.com/bitcoin-burning-a-hole-in-your-pocket-now-you-can-spen-1846265076',\n",
       "   'urlToImage': 'https://i.kinja-img.com/gawker-media/image/upload/c_fill,f_auto,fl_progressive,g_center,h_675,pg_1,q_80,w_1200/za0f2uahpeppxnkvipsp.jpg',\n",
       "   'publishedAt': '2021-02-13T05:43:00Z',\n",
       "   'content': 'In case you havent noticed, Bitcoins having a bit of a moment. The cryptocurrencys value reached record heights in recent weeks, youll soon be able to buy a Tesla with it, and, as of Friday, you can … [+1500 chars]'},\n",
       "  {'source': {'id': 'mashable', 'name': 'Mashable'},\n",
       "   'author': 'Jae Thomas',\n",
       "   'title': \"Here's how you could win $8,000 in Bitcoin, investing classes, and more\",\n",
       "   'description': 'TL;DR: Enter the The Complete Bitcoin (BTC) Investment Giveaway for a chance to win over $12,000 in cryptocurrency-related prizes.\\n\\nThe Bitcoin Investment Giveaway includes everything you need to get started in cryptocurrency investing, plus a detailed course…',\n",
       "   'url': 'https://mashable.com/shopping/feb-25-complete-bitcoin-investment-giveaway/',\n",
       "   'urlToImage': 'https://mondrian.mashable.com/2021%252F02%252F25%252F29%252F527b6993551b4cdc867d406a408b92ea.8fc87.jpg%252F1200x630.jpg?signature=LuzW91oYqNerruEfoWyFEZR52oY=',\n",
       "   'publishedAt': '2021-02-25T10:00:00Z',\n",
       "   'content': 'TL;DR: Enter the The Complete Bitcoin (BTC) Investment Giveaway for a chance to win over $12,000 in cryptocurrency-related prizes.\\r\\nThe Bitcoin Investment Giveaway includes everything you need to get… [+1641 chars]'},\n",
       "  {'source': {'id': 'cnn', 'name': 'CNN'},\n",
       "   'author': 'Paul R. La Monica, CNN Business',\n",
       "   'title': 'Elon Musk, Bill Gates and Janet Yellen are sending bitcoin tumbling',\n",
       "   'description': \"Bitcoin's roller coaster ride continues. The top cryptocurrency surged to a new all-time high above $58,000 on Sunday but fell to just above $46,000 in early trading Tuesday morning.\",\n",
       "   'url': 'https://www.cnn.com/2021/02/23/investing/bitcoin-prices-fall-yellen-gates/index.html',\n",
       "   'urlToImage': 'https://cdn.cnn.com/cnnnext/dam/assets/210222084328-03-bitcoin-file-super-tease.jpg',\n",
       "   'publishedAt': '2021-02-23T14:50:21Z',\n",
       "   'content': \"New York (CNN Business)Bitcoin's roller coaster ride continues. The top cryptocurrency surged to a new all-time high above $58,000 on Sunday but fell to just above $46,000 in early trading Tuesday mo… [+2159 chars]\"},\n",
       "  {'source': {'id': 'techcrunch', 'name': 'TechCrunch'},\n",
       "   'author': 'Romain Dillet',\n",
       "   'title': 'Crypto wallet and exchange company Blockchain.com raises $120 million',\n",
       "   'description': 'Blockchain.com has announced that it has raised a $120 million funding round. The company develops a popular cryptocurrency wallet as well as an exchange, an explorer and more. Moore Strategic Ventures, Kyle Bass, Access Industries, Rovida Advisors, Lightspee…',\n",
       "   'url': 'http://techcrunch.com/2021/02/17/crypto-wallet-and-exchange-company-blockchain-com-raises-120-million/',\n",
       "   'urlToImage': 'https://techcrunch.com/wp-content/uploads/2021/02/andre-francois-mckenzie-JrjhtBJ-pGU-unsplash.jpg?w=599',\n",
       "   'publishedAt': '2021-02-17T18:24:31Z',\n",
       "   'content': 'Blockchain.com has announced that it has raised a $120 million funding round. The company develops a popular cryptocurrency wallet as well as an exchange, an explorer and more.\\r\\nMoore Strategic Ventu… [+2165 chars]'},\n",
       "  {'source': {'id': 'techcrunch', 'name': 'TechCrunch'},\n",
       "   'author': 'Alex Wilhelm',\n",
       "   'title': 'Coinbase files to go public in a key listing for the cryptocurrency category',\n",
       "   'description': 'This morning Coinbase, an American cryptocurrency exchange, released an S-1 filing ahead of its direct listing. The company’s public debut has been hotly anticipated thanks to recent activity amongst bitcoin and other blockchain-based assets, the company’s co…',\n",
       "   'url': 'http://techcrunch.com/2021/02/25/coinbase-files-to-go-public-in-a-key-listing-for-the-cryptocurrency-category/',\n",
       "   'urlToImage': 'https://techcrunch.com/wp-content/uploads/2020/12/GettyImages-1028811312.jpg?w=650',\n",
       "   'publishedAt': '2021-02-25T13:23:28Z',\n",
       "   'content': 'This morning Coinbase, an American cryptocurrency exchange, released an S-1 filing ahead of its direct listing. The company’s public debut has been hotly anticipated thanks to recent activity amongst… [+2409 chars]'},\n",
       "  {'source': {'id': None, 'name': 'ValueWalk'},\n",
       "   'author': 'Michelle Jones',\n",
       "   'title': 'Tesla CEO Elon Musk Says Bitcoin Purchase is \"Less Dumb\" Than Holding Cash',\n",
       "   'description': \"Elon Musk tweets in defense of Tesla's $1.5 billion bitcoin purchase as Bitcoin price hits a new record.\",\n",
       "   'url': 'https://www.valuewalk.com/tesla-musk-bitcoin-purchase-less-dumb',\n",
       "   'urlToImage': 'https://assets.entrepreneur.com/content/3x2/2000/1613763817-bitcoin.jpg',\n",
       "   'publishedAt': '2021-02-19T19:44:07Z',\n",
       "   'content': 'February\\r\\n19, 2021\\r\\n3 min read\\r\\nThis story originally appeared on ValueWalkTesla CEO Elon Musk is talking more about the\\xa0automaker’s\\xa0bitcoin purchase. In response to a comment from Binance CEO Changp… [+2194 chars]'},\n",
       "  {'source': {'id': 'reuters', 'name': 'Reuters'},\n",
       "   'author': 'Reuters Staff',\n",
       "   'title': 'MicroStrategy buys 205 bitcoin for $10 million - Reuters',\n",
       "   'description': 'MicroStrategy Inc, a major corporate backer of bitcoin, has bought about 205 bitcoin for about $10 million in cash, it said on Friday, adding to its already substantial holdings of the cryptocurrency.',\n",
       "   'url': 'https://www.reuters.com/article/us-crypto-currency-microstrategy-idUSKBN2AX1F6',\n",
       "   'urlToImage': 'https://static.reuters.com/resources/r/?m=02&d=20210305&t=2&i=1553866737&r=LYNXMPEH240TQ&w=800',\n",
       "   'publishedAt': '2021-03-05T13:23:00Z',\n",
       "   'content': 'By Reuters Staff\\r\\nFILE PHOTO: A collection of bitcoin (virtual currency) tokens are displayed in this picture illustration taken Dec. 8, 2017. REUTERS/Benoit Tessier/Illustration\\r\\n(Reuters) - MicroSt… [+905 chars]'},\n",
       "  {'source': {'id': 'reuters', 'name': 'Reuters'},\n",
       "   'author': 'Reuters Staff',\n",
       "   'title': 'MicroStrategy bitcoin holding valued at $4.38 billion after latest buy - Reuters',\n",
       "   'description': \"Major bitcoin corporate backer MicroStrategy Inc said on Monday it bought another 328 bitcoin for about $15 million in cash, swelling its holdings of the cryptocurrency and sending the company's shares 7% higher in premarket trading.\",\n",
       "   'url': 'https://www.reuters.com/article/us-crypto-currency-microstrategy-idUSKCN2AT2H5',\n",
       "   'urlToImage': 'https://static.reuters.com/resources/r/?m=02&d=20210301&t=2&i=1553322482&r=LYNXNPEH201G5&w=800',\n",
       "   'publishedAt': '2021-03-01T13:35:00Z',\n",
       "   'content': 'By Reuters Staff\\r\\nFILE PHOTO: Representations of virtual currency Bitcoin are placed on a computer motherboard in this illustration taken January 21, 2021. REUTERS/Dado Ruvic/Illustration\\r\\n(Reuters) … [+1303 chars]'},\n",
       "  {'source': {'id': 'reuters', 'name': 'Reuters'},\n",
       "   'author': 'Reuters Staff',\n",
       "   'title': 'Bitcoin hits fresh high - Reuters',\n",
       "   'description': 'Bitcoin continued gaining on Sunday, rising to a fresh high and extending a two-month rally that took its market capitalization above $1 trillion on Friday.',\n",
       "   'url': 'https://www.reuters.com/article/crypto-currency-bitcoin-idUSL1N2KR0FM',\n",
       "   'urlToImage': 'https://s1.reutersmedia.net/resources_v2/images/rcom-default.png?w=800',\n",
       "   'publishedAt': '2021-02-21T19:38:00Z',\n",
       "   'content': 'By Reuters Staff\\r\\nFeb 21 (Reuters) - Bitcoin continued gaining on Sunday, rising to a fresh high and extending a two-month rally that took its market capitalization above $1 trillion on Friday.\\r\\nThe … [+296 chars]'},\n",
       "  {'source': {'id': 'reuters', 'name': 'Reuters'},\n",
       "   'author': 'Reuters Staff',\n",
       "   'title': 'Breakingviews - Capital Calls: China digs bitcoin hole - Reuters',\n",
       "   'description': 'Breakingviews - Capital Calls: China digs bitcoin hole\\xa0\\xa0Reuters',\n",
       "   'url': 'https://www.reuters.com/article/us-global-finance-breakingviews-idUSKCN2AU123',\n",
       "   'urlToImage': 'https://static.reuters.com/resources/r/?m=02&d=20210302&t=2&i=1553439612&r=LYNXNPEH210LQ&w=800',\n",
       "   'publishedAt': '2021-03-02T10:51:00Z',\n",
       "   'content': 'By Reuters Staff\\r\\nCryptocurrency mining facilities are seen in Pristina, Kosovo June 12, 2018.\\r\\nHONG KONG (Reuters Breakingviews) - Concise insights on global finance in the Covid-19 era.\\r\\nSUPPLY-SID… [+1621 chars]'},\n",
       "  {'source': {'id': None, 'name': 'Canada NewsWire'},\n",
       "   'author': None,\n",
       "   'title': '07:30 ET Evolve Announces Bitcoin ETF Begins Trading on TSX - Canada NewsWire',\n",
       "   'description': \"<ol><li>07:30 ET Evolve Announces Bitcoin ETF Begins Trading on TSX\\xa0\\xa0Canada NewsWire\\r\\n</li><li>Toronto Stock Exchange launches world's first Bitcoin ETF\\xa0\\xa0CBC News: The National\\r\\n</li><li>North America's second bitcoin ETF launches in Canada today\\xa0\\xa0Yahoo Canad…\",\n",
       "   'url': 'https://www.newswire.ca/news-releases/evolve-announces-bitcoin-etf-begins-trading-on-tsx-870095552.html',\n",
       "   'urlToImage': 'https://mma.prnewswire.com/media/1441152/Bitcoin_ETF_Evolve_Announces_Bitcoin_ETF_Begins_Trading_on_TSX.jpg?p=facebook',\n",
       "   'publishedAt': '2021-02-19T12:30:00Z',\n",
       "   'content': 'TORONTO, Feb. 19, 2021 /CNW/ - Evolve\\xa0Funds Group Inc.\\xa0(\"Evolve\")\\xa0is pleased to announce\\xa0the launch of the Bitcoin ETF (\"EBIT\"). EBIT\\xa0has closed its initial offering of units and will begin trading o… [+5470 chars]'},\n",
       "  {'source': {'id': None, 'name': 'The Motley Fool Canada'},\n",
       "   'author': None,\n",
       "   'title': 'Why Bitcoin Is Down Big Today - The Motley Fool Canada',\n",
       "   'description': '<ol><li>Why Bitcoin Is Down Big Today\\xa0\\xa0The Motley Fool Canada\\r\\n</li><li>Elon Musk, Bill Gates and Janet Yellen are sending bitcoin tumbling\\xa0\\xa0CTV News\\r\\n</li><li>Tesla, now strongly linked to bitcoin, drops in value as cryptocurrency plummets\\xa0\\xa0CBC.ca\\r\\n</li><li>…',\n",
       "   'url': 'https://www.fool.ca/2021/02/23/why-bitcoin-is-down-big-today/',\n",
       "   'urlToImage': 'https://yw553ftvhw1iqegz29fycoyw-wpengine.netdna-ssl.com/wp-content/uploads/2018/05/Bitcoin1.jpg',\n",
       "   'publishedAt': '2021-02-24T00:32:24Z',\n",
       "   'content': 'The cryptocurrency market has encountered major headwinds to open the final trading week of February. It is not the only sector that has been impacted. North American stocks were down broadly in mid-… [+3563 chars]'},\n",
       "  {'source': {'id': 'reuters', 'name': 'Reuters'},\n",
       "   'author': 'Reuters Staff',\n",
       "   'title': 'Bitcoin hits record high; trades as high as $59,755 on Saturday - Reuters',\n",
       "   'description': \"Bitcoin, the world's biggest cryptocurrency, on Saturday reached a record high, trading up to $59,755.\",\n",
       "   'url': 'https://www.reuters.com/article/us-crypto-currency-bitcoin-idUSKBN2B50B1',\n",
       "   'urlToImage': 'https://static.reuters.com/resources/r/?m=02&d=20210313&t=2&i=1554771186&r=LYNXMPEH2C07M&w=800',\n",
       "   'publishedAt': '2021-03-13T11:18:00Z',\n",
       "   'content': 'By Reuters Staff\\r\\nFILE PHOTO: A representation of virtual currency Bitcoin and U.S. One Dollar banknotes are seen in front of a stock graph in this illustration taken January 8, 2021. REUTERS/Dado Ru… [+440 chars]'}]}"
      ]
     },
     "execution_count": 47,
     "metadata": {},
     "output_type": "execute_result"
    }
   ],
   "source": [
    "# Fetch the Bitcoin news articles\n",
    "btc_headlines = newsapi.get_everything(q=\"bitcoin\", language=\"en\")\n",
    "btc_headlines"
   ]
  },
  {
   "cell_type": "code",
   "execution_count": 54,
   "metadata": {},
   "outputs": [
    {
     "data": {
      "text/plain": [
       "{'status': 'ok',\n",
       " 'totalResults': 1982,\n",
       " 'articles': [{'source': {'id': 'engadget', 'name': 'Engadget'},\n",
       "   'author': 'Jon Fingas',\n",
       "   'title': 'NVIDIA limits RTX 3060 crypto speeds as it introduces mining cards',\n",
       "   'description': \"Worried that the GeForce RTX 3060 will be sold out as cryptocurrency miners snap up every GPU in sight? NVIDIA thinks it has a simple way to help: make the new card unattractive to the crypto crowd. The company has revealed that it's cutting the hash rate (mi…\",\n",
       "   'url': 'https://www.engadget.com/nvidia-limits-rtx-3060-for-crypto-mining-161657361.html',\n",
       "   'urlToImage': 'https://s.yimg.com/uu/api/res/1.2/VLoRobjl1FcFEgV_0XjzqQ--~B/aD0xMDY3O3c9MTYwMDthcHBpZD15dGFjaHlvbg--/https://s.yimg.com/os/creatr-uploaded-images/2021-02/cad5ae60-7200-11eb-bbbc-25bd3507e406.cf.jpg',\n",
       "   'publishedAt': '2021-02-18T16:16:57Z',\n",
       "   'content': 'Worried that the GeForce RTX 3060 will be sold out as cryptocurrency miners snap up every GPU in sight? NVIDIA thinks it has a simple way to help: make the new card unattractive to the crypto crowd. … [+1652 chars]'},\n",
       "  {'source': {'id': 'mashable', 'name': 'Mashable'},\n",
       "   'author': 'Stan Schroeder',\n",
       "   'title': 'What are NFTs? Everything you need to know.',\n",
       "   'description': 'NFTs are the latest cryptocurrency rage these days, with bands like Kings of Leon releasing their next album as limited edition \"golden tickets,\" and NBA digital collectibles being sold for millions of dollars.\\xa0\\nThey\\'re interesting to collectors and cryptocur…',\n",
       "   'url': 'https://mashable.com/article/nft-explainer-what-are-non-fungible-tokens/',\n",
       "   'urlToImage': 'https://mondrian.mashable.com/2021%252F03%252F06%252F0e%252Fbd28ab464794471f9054bd26b9e0eda3.d0716.jpg%252F1200x630.jpg?signature=tS8_njLhE2SvWmtsr3QtFjqQHOA=',\n",
       "   'publishedAt': '2021-03-06T14:00:00Z',\n",
       "   'content': 'NFTs are the latest cryptocurrency rage these days, with bands like Kings of Leon releasing their next album as limited edition \"golden tickets,\" and NBA digital collectibles being sold for millions … [+7287 chars]'},\n",
       "  {'source': {'id': 'techcrunch', 'name': 'TechCrunch'},\n",
       "   'author': 'David Riggs',\n",
       "   'title': 'If you haven’t followed NFTs, here’s why you should start',\n",
       "   'description': 'Digital content has value, and crypto collectors are flocking to lay their namesake on the biggest collections of tomorrow.',\n",
       "   'url': 'http://techcrunch.com/2021/02/27/if-you-havent-followed-nfts-heres-why-you-should-start/',\n",
       "   'urlToImage': 'https://techcrunch.com/wp-content/uploads/2018/03/gettyimages-883634210.jpg?w=574',\n",
       "   'publishedAt': '2021-02-27T13:26:25Z',\n",
       "   'content': 'NFTs (non-fungible tokens) — or scarce digital content represented as tokens — are driving a new wave of crypto adoption.\\r\\nThanks to the Ethereum blockchain, artists, gaming companies and content cre… [+5365 chars]'},\n",
       "  {'source': {'id': 'engadget', 'name': 'Engadget'},\n",
       "   'author': 'Richard Lawler',\n",
       "   'title': \"Remastered 'nyan cat' art sells for the equivalent of $605k\",\n",
       "   'description': \"While the first Christie's auction of digital artwork backed by NFT (non-fungible token) is still a few days away, one of the most notable sales in that world has already taken place. Chris Torres created the rainbow-streaming animation of Nyan Cat based on h…\",\n",
       "   'url': 'https://www.engadget.com/nyan-cat-auction-nft-114830079.html',\n",
       "   'urlToImage': 'https://s.yimg.com/uu/api/res/1.2/KG2FppAKtY_v30xQhjNg_w--~B/aD03NzI7dz0xMDAwO2FwcGlkPXl0YWNoeW9u/https://s.yimg.com/os/creatr-uploaded-images/2021-02/2a8ceeb0-7371-11eb-bded-6fc531918d34.cf.jpg',\n",
       "   'publishedAt': '2021-02-20T11:48:30Z',\n",
       "   'content': \"While the first Christie's auction of digital artwork backed by NFT (non-fungible token) is still a few days away, one of the most notable sales in that world has already taken place. Chris Torres cr… [+1064 chars]\"},\n",
       "  {'source': {'id': None, 'name': 'Gizmodo.com'},\n",
       "   'author': 'Joanna Nelius',\n",
       "   'title': 'Nvidia Is Making Graphics Cards Just for Cryptocurrency Miners',\n",
       "   'description': 'Attempting to get ahead of cryptocurrency miners who might snatch up a good chunk of RTX 3060 stock when the GPU goes on sale next week, Nvidia announced this morning it now has a dedicated card for professional mining.Read more...',\n",
       "   'url': 'https://gizmodo.com/nvidia-is-making-graphics-cards-just-for-cryptocurrency-1846297148',\n",
       "   'urlToImage': 'https://i.kinja-img.com/gawker-media/image/upload/c_fill,f_auto,fl_progressive,g_center,h_675,pg_1,q_80,w_1200/qp9sj1n7hpxgd5fteltm.jpg',\n",
       "   'publishedAt': '2021-02-18T17:46:00Z',\n",
       "   'content': 'Attempting to get ahead of cryptocurrency miners who might snatch up a good chunk of RTX 3060 stock when the GPU goes on sale next week, Nvidia announced this morning it now has a dedicated card for … [+3033 chars]'},\n",
       "  {'source': {'id': 'reuters', 'name': 'Reuters'},\n",
       "   'author': 'Gertrude Chavez-Dreyfuss',\n",
       "   'title': 'Cryptocurrency Ethereum hits record high, lifted by bitcoin, institutional demand - Reuters',\n",
       "   'description': 'Ethereum, the second largest cryptocurrency in terms of market capitalization and volume, hit a record high on Thursday, lifted by growing institutional interest in the space, and more than a week after its futures were launched on the Chicago Mercantile Exch…',\n",
       "   'url': 'https://www.reuters.com/article/us-crypto-currency-ethereum-idUSKBN2AI2UT',\n",
       "   'urlToImage': 'https://static.reuters.com/resources/r/?m=02&d=20210218&t=2&i=1552060662&r=LYNXMPEH1H1PV&w=800',\n",
       "   'publishedAt': '2021-02-18T21:06:00Z',\n",
       "   'content': 'NEW YORK (Reuters) - Ethereum, the second largest cryptocurrency in terms of market capitalization and volume, hit a record high on Thursday, lifted by growing institutional interest in the space, an… [+2569 chars]'},\n",
       "  {'source': {'id': 'reuters', 'name': 'Reuters'},\n",
       "   'author': 'Gertrude Chavez-Dreyfuss',\n",
       "   'title': 'Cryptocurrency Ethereum hits record high, lifted by bitcoin, institutional demand - Reuters',\n",
       "   'description': 'Ethereum, the second largest cryptocurrency in terms of market capitalization and volume, hit a record high on Thursday, lifted by growing institutional interest in the space, and more than a week after its futures were launched on the Chicago Mercantile Exch…',\n",
       "   'url': 'https://www.reuters.com/article/crypto-currency-ethereum-idUSL1N2KO2IJ',\n",
       "   'urlToImage': 'https://s1.reutersmedia.net/resources_v2/images/rcom-default.png?w=800',\n",
       "   'publishedAt': '2021-02-18T21:00:00Z',\n",
       "   'content': 'NEW YORK, Feb 18 (Reuters) - Ethereum, the second largest cryptocurrency in terms of market capitalization and volume, hit a record high on Thursday, lifted by growing institutional interest in the s… [+2563 chars]'},\n",
       "  {'source': {'id': None, 'name': 'FX Empire'},\n",
       "   'author': None,\n",
       "   'title': 'Bitcoin and Ethereum - Weekly Technical Analysis – February 22nd, 2021 - FX Empire',\n",
       "   'description': '<ol><li>Bitcoin and Ethereum - Weekly Technical Analysis – February 22nd, 2021\\xa0\\xa0FX Empire\\r\\n</li><li>How bitcoin is like a teenager\\xa0\\xa0CNN \\r\\n</li><li>Crypto Long & Short: Interest in DeFi Is Surging. You Can Thank GameStop\\xa0\\xa0Yahoo Finance\\r\\n</li><li>A crypto frenz…',\n",
       "   'url': 'https://www.fxempire.com/forecasts/article/bitcoin-and-ethereum-weekly-technical-analysis-february-22nd-2021-702017',\n",
       "   'urlToImage': 'https://responsive.fxempire.com/width/600/webp-lossy-70.q50/_fxempire_/2021/02/Depositphotos_162019154_s-2019-1.jpg',\n",
       "   'publishedAt': '2021-02-22T03:43:56Z',\n",
       "   'content': 'Ethereum\\xa0rose by 7.34% in the week ending 21st February. Following on from an 11.65% rally from the previous week, Ethereum ended the week at $1,935.57.\\r\\nIt was also a mixed start to the week. Ethere… [+1690 chars]'},\n",
       "  {'source': {'id': 'mashable', 'name': 'Mashable'},\n",
       "   'author': 'Jack Morse',\n",
       "   'title': 'Coinbase says unmasking Satoshi Nakamoto might harm its business',\n",
       "   'description': 'Some things are best left a mystery — at least as far as Coinbase is concerned.\\xa0\\nThe San Francisco-based cryptocurrency exchange has been preparing to go public since last year, and in a Thursday prospectus filed with the Securities and Exchange Commission (S…',\n",
       "   'url': 'https://mashable.com/article/coinbase-direct-listing-unmasking-bitcoin-creator-satoshi-nakamoto/',\n",
       "   'urlToImage': 'https://mondrian.mashable.com/2021%252F02%252F26%252Fe8%252F17dd59c8ab704170bf5e29da12d9ebbf.c6b86.jpg%252F1200x630.jpg?signature=Fs2g1MN2HN_UfNi1kogIjVxyo8E=',\n",
       "   'publishedAt': '2021-02-26T00:40:52Z',\n",
       "   'content': 'Some things are best left a mystery at least as far as Coinbase is concerned.\\xa0\\r\\nThe San Francisco-based cryptocurrency exchange has been preparing to go public since last year, and in a Thursday pros… [+1953 chars]'},\n",
       "  {'source': {'id': 'techcrunch', 'name': 'TechCrunch'},\n",
       "   'author': 'Romain Dillet',\n",
       "   'title': 'Bitfinex launches cryptocurrency payment gateway for merchants',\n",
       "   'description': 'Cryptocurrency exchange company Bitfinex is launching Bitfinex Pay, a cryptocurrency payment gateway. With this new product, online merchants can accept payments in various cryptocurrencies. It should make cross-border transactions easier in particular. While…',\n",
       "   'url': 'http://techcrunch.com/2021/03/04/bitfinex-launches-cryptocurrency-payment-gateway-for-merchants/',\n",
       "   'urlToImage': 'https://techcrunch.com/wp-content/uploads/2019/04/bitcoin-bitfinex.jpg?w=750',\n",
       "   'publishedAt': '2021-03-04T16:48:05Z',\n",
       "   'content': 'Cryptocurrency exchange company Bitfinex is launching Bitfinex Pay, a cryptocurrency payment gateway. With this new product, online merchants can accept payments in various cryptocurrencies. It shoul… [+1551 chars]'},\n",
       "  {'source': {'id': None, 'name': 'Lifehacker.com'},\n",
       "   'author': 'Mike Winters on Two Cents, shared by Mike Winters to Lifehacker',\n",
       "   'title': 'Why NFT Collectibles Are Overhyped',\n",
       "   'description': 'NFTs have become an investing phenomenon, with everything from GIFs to sports highlights selling for millions of dollars. But how much of this is hype—and should we be reassured by celebrity endorsements from Logan Paul, Paris Hilton, Lindsay Lohan, Rob Gronk…',\n",
       "   'url': 'https://twocents.lifehacker.com/why-nft-collectibles-are-overhyped-1846452668',\n",
       "   'urlToImage': 'https://i.kinja-img.com/gawker-media/image/upload/c_fill,f_auto,fl_progressive,g_center,h_675,pg_1,q_80,w_1200/dclkyg7wdn18rjbbxbsw.png',\n",
       "   'publishedAt': '2021-03-11T01:35:00Z',\n",
       "   'content': 'NFTs have become an investing phenomenon, with everything from GIFs to sports highlights selling for millions of dollars. But how much of this is hypeand should we be reassured by celebrity endorseme… [+4477 chars]'},\n",
       "  {'source': {'id': 'reuters', 'name': 'Reuters'},\n",
       "   'author': 'Reuters Staff',\n",
       "   'title': 'Bitcoin, ether hit fresh highs - Reuters India',\n",
       "   'description': 'Bitcoin hit a fresh high in Asian trading on Saturday, extending a two-month rally that saw its market capitalisation cross $1 trillion a day earlier.',\n",
       "   'url': 'https://www.reuters.com/article/us-crypto-currency-bitcoin-idUSKBN2AK05X',\n",
       "   'urlToImage': 'https://static.reuters.com/resources/r/?m=02&d=20210220&t=2&i=1552241902&r=LYNXMPEH1J02Z&w=800',\n",
       "   'publishedAt': '2021-02-20T05:20:00Z',\n",
       "   'content': 'By Reuters Staff\\r\\nSINGAPORE (Reuters) - Bitcoin hit a fresh high in Asian trading on Saturday, extending a two-month rally that saw its market capitalisation cross $1 trillion a day earlier.\\r\\nThe wor… [+690 chars]'},\n",
       "  {'source': {'id': 'reuters', 'name': 'Reuters'},\n",
       "   'author': 'Kevin Buckland',\n",
       "   'title': 'FOREX-Dollar nurses losses after jobs data mars recovery narrative; sterling buoyant - Reuters',\n",
       "   'description': '* Dollar continues to take cues from economy instead of sentiment * Ethereum marks new record high while bitcoin takes a breather * Graphic: World FX rates https://tmsnrt.rs/2RBWI5E By Kevin Buckland TOKYO, Feb 19 (Reuters) - The U.S. dollar paused on Friday …',\n",
       "   'url': 'https://www.reuters.com/article/global-forex-idUSL4N2KP1AO',\n",
       "   'urlToImage': 'https://s1.reutersmedia.net/resources_v2/images/rcom-default.png?w=800',\n",
       "   'publishedAt': '2021-02-19T05:49:00Z',\n",
       "   'content': '* Dollar continues to take cues from economy instead of\\r\\nsentiment\\r\\n * Ethereum marks new record high while bitcoin takes a\\r\\nbreather\\r\\n * Graphic: World FX rates tmsnrt.rs/2RBWI5E\\r\\nBy Kevin Buckland\\r… [+3734 chars]'},\n",
       "  {'source': {'id': 'reuters', 'name': 'Reuters'},\n",
       "   'author': 'Reuters Staff',\n",
       "   'title': 'Chinese beauty app Meitu shares surge after cryptocurrency investment - Reuters',\n",
       "   'description': 'Shares of Hong Kong-listed Chinese photo editing app Meitu Inc rose as much as 14.4% on Monday morning after the company said it had bought $40 million of cryptocurrencies.',\n",
       "   'url': 'https://www.reuters.com/article/us-crypto-currency-meitu-idUSKBN2B007L',\n",
       "   'urlToImage': 'https://static.reuters.com/resources/r/?m=02&d=20210308&t=2&i=1554076870&r=LYNXMPEH2703Y&w=800',\n",
       "   'publishedAt': '2021-03-08T02:46:00Z',\n",
       "   'content': \"By Reuters Staff\\r\\nFILE PHOTO: A logo of Meitu is displayed at a news conference on the company's results in Hong Kong, China March 24, 2017. REUTERS/Bobby Yip\\r\\nHONG KONG (Reuters) - Shares of Hong Ko… [+1180 chars]\"},\n",
       "  {'source': {'id': 'reuters', 'name': 'Reuters'},\n",
       "   'author': 'Reuters Staff',\n",
       "   'title': 'Bitcoin pulls back from brink of $50,000 - Reuters',\n",
       "   'description': 'Cryptocurrencies slid during Asian trading hours on Monday, with bitcoin dropping more than 5%, as investors took profits from a record-breaking rally.',\n",
       "   'url': 'https://www.reuters.com/article/crypto-currency-idUSL4N2KL0IN',\n",
       "   'urlToImage': 'https://s1.reutersmedia.net/resources_v2/images/rcom-default.png?w=800',\n",
       "   'publishedAt': '2021-02-15T02:46:00Z',\n",
       "   'content': 'By Reuters Staff\\r\\nSINGAPORE, Feb 15 (Reuters) - Cryptocurrencies slid during Asian trading hours on Monday, with bitcoin dropping more than 5%, as investors took profits from a record-breaking rally.… [+253 chars]'},\n",
       "  {'source': {'id': None, 'name': 'Github.io'},\n",
       "   'author': 'Tim Daubenschütz, Tim Daubenschütz',\n",
       "   'title': \"Ethereum Isn't Fun Anymore\",\n",
       "   'description': 'Ethereum isn&apos;t fun anymore. There I said it. And although, the last time I developed an app using it has been more than a year ago, I stand by my word. Developing dapps on Ethereum has become ann',\n",
       "   'url': 'https://timdaub.github.io/2021/02/22/ethereum-isnt-fun-anymore/',\n",
       "   'urlToImage': 'https://timdaub.github.io/assets/images/pedro.gif',\n",
       "   'publishedAt': '2021-02-22T10:05:08Z',\n",
       "   'content': \"Ethereum isn't fun anymore. There I said it. And although, the last time I developed an app using it has been more than a year ago, I stand by my word. Developing dapps on Ethereum has become annoyin… [+3308 chars]\"},\n",
       "  {'source': {'id': 'mashable', 'name': 'Mashable'},\n",
       "   'author': 'Jae Thomas',\n",
       "   'title': \"Here's how you could win $8,000 in Bitcoin, investing classes, and more\",\n",
       "   'description': 'TL;DR: Enter the The Complete Bitcoin (BTC) Investment Giveaway for a chance to win over $12,000 in cryptocurrency-related prizes.\\n\\nThe Bitcoin Investment Giveaway includes everything you need to get started in cryptocurrency investing, plus a detailed course…',\n",
       "   'url': 'https://mashable.com/shopping/feb-25-complete-bitcoin-investment-giveaway/',\n",
       "   'urlToImage': 'https://mondrian.mashable.com/2021%252F02%252F25%252F29%252F527b6993551b4cdc867d406a408b92ea.8fc87.jpg%252F1200x630.jpg?signature=LuzW91oYqNerruEfoWyFEZR52oY=',\n",
       "   'publishedAt': '2021-02-25T10:00:00Z',\n",
       "   'content': 'TL;DR: Enter the The Complete Bitcoin (BTC) Investment Giveaway for a chance to win over $12,000 in cryptocurrency-related prizes.\\r\\nThe Bitcoin Investment Giveaway includes everything you need to get… [+1641 chars]'},\n",
       "  {'source': {'id': 'reuters', 'name': 'Reuters'},\n",
       "   'author': 'Reuters Staff',\n",
       "   'title': 'Romanian blockchain unicorn Elrond plans new features for money app - Reuters Canada',\n",
       "   'description': 'Romanian blockchain start-up Elrond is preparing to have its new global payments app support Bitcoin this month as it looks to rival more established rivals PayPal or Revolut, its CEO said, as it taps surging interest in crypto currencies.',\n",
       "   'url': 'https://www.reuters.com/article/us-romania-blockchain-elrond-idUSKBN2AV0VL',\n",
       "   'urlToImage': 'https://static.reuters.com/resources/r/?m=02&d=20210303&t=2&i=1553567790&r=LYNXMPEH220FG&w=800',\n",
       "   'publishedAt': '2021-03-03T09:20:00Z',\n",
       "   'content': 'By Reuters Staff\\r\\nBUCHAREST (Reuters) - Romanian blockchain start-up Elrond is preparing to have its new global payments app support Bitcoin this month as it looks to rival more established rivals Pa… [+1854 chars]'},\n",
       "  {'source': {'id': 'reuters', 'name': 'Reuters'},\n",
       "   'author': 'Reuters Staff',\n",
       "   'title': 'Bitcoin pulls back from brink of $50,000 - Reuters',\n",
       "   'description': 'Cryptocurrencies slid during Asian trading hours on Monday, with bitcoin dropping more than 5%, as investors took profits from a record-breaking rally.',\n",
       "   'url': 'https://www.reuters.com/article/us-crypto-currency-idUSKBN2AF05C',\n",
       "   'urlToImage': 'https://static.reuters.com/resources/r/?m=02&d=20210215&t=2&i=1551541809&r=LYNXMPEH1E034&w=800',\n",
       "   'publishedAt': '2021-02-15T02:42:00Z',\n",
       "   'content': 'By Reuters Staff\\r\\nFILE PHOTO: A collection of bitcoin (virtual currency) tokens are displayed in this picture illustration taken Dec. 8, 2017. REUTERS/Benoit Tessier/Illustration/File Photo\\r\\nSINGAPOR… [+365 chars]'},\n",
       "  {'source': {'id': 'reuters', 'name': 'Reuters'},\n",
       "   'author': 'Reuters Staff',\n",
       "   'title': 'Bitcoin falls as much as 6% as it pulls back from record high - Reuters',\n",
       "   'description': 'Cryptocurrency bitcoin dropped as much as 6% in Asia trade on Tuesday and was trading around $52,000 as it pulls back from record highs following a long and sharp rally.',\n",
       "   'url': 'https://www.reuters.com/article/crypto-currency-bitcoin-idUSL4N2KT0RC',\n",
       "   'urlToImage': 'https://s1.reutersmedia.net/resources_v2/images/rcom-default.png?w=800',\n",
       "   'publishedAt': '2021-02-23T03:27:00Z',\n",
       "   'content': 'By Reuters Staff\\r\\nSINGAPORE, Feb 23 (Reuters) - Cryptocurrency bitcoin dropped as much as 6% in Asia trade on Tuesday and was trading around $52,000 as it pulls back from record highs following a lon… [+356 chars]'}]}"
      ]
     },
     "execution_count": 54,
     "metadata": {},
     "output_type": "execute_result"
    }
   ],
   "source": [
    "# Fetch the Ethereum news articles\n",
    "eth_headlines = newsapi.get_everything(q=\"ethereum\", language=\"en\")\n",
    "eth_headlines"
   ]
  },
  {
   "cell_type": "code",
   "execution_count": 55,
   "metadata": {},
   "outputs": [
    {
     "data": {
      "text/html": [
       "<div>\n",
       "<style scoped>\n",
       "    .dataframe tbody tr th:only-of-type {\n",
       "        vertical-align: middle;\n",
       "    }\n",
       "\n",
       "    .dataframe tbody tr th {\n",
       "        vertical-align: top;\n",
       "    }\n",
       "\n",
       "    .dataframe thead th {\n",
       "        text-align: right;\n",
       "    }\n",
       "</style>\n",
       "<table border=\"1\" class=\"dataframe\">\n",
       "  <thead>\n",
       "    <tr style=\"text-align: right;\">\n",
       "      <th></th>\n",
       "      <th>date</th>\n",
       "      <th>text</th>\n",
       "      <th>compound</th>\n",
       "      <th>positive</th>\n",
       "      <th>negative</th>\n",
       "      <th>neutral</th>\n",
       "    </tr>\n",
       "  </thead>\n",
       "  <tbody>\n",
       "    <tr>\n",
       "      <th>0</th>\n",
       "      <td>2021-02-26</td>\n",
       "      <td>Some things are best left a mystery at least a...</td>\n",
       "      <td>0.6369</td>\n",
       "      <td>0.113</td>\n",
       "      <td>0.000</td>\n",
       "      <td>0.887</td>\n",
       "    </tr>\n",
       "    <tr>\n",
       "      <th>1</th>\n",
       "      <td>2021-03-03</td>\n",
       "      <td></td>\n",
       "      <td>0.0000</td>\n",
       "      <td>0.000</td>\n",
       "      <td>0.000</td>\n",
       "      <td>0.000</td>\n",
       "    </tr>\n",
       "    <tr>\n",
       "      <th>2</th>\n",
       "      <td>2021-02-16</td>\n",
       "      <td>Bitcoin is the future, again: this morning, it...</td>\n",
       "      <td>0.7041</td>\n",
       "      <td>0.140</td>\n",
       "      <td>0.000</td>\n",
       "      <td>0.860</td>\n",
       "    </tr>\n",
       "    <tr>\n",
       "      <th>3</th>\n",
       "      <td>2021-02-12</td>\n",
       "      <td>Miamis mayor, Francis Suarez, is champing at t...</td>\n",
       "      <td>0.1779</td>\n",
       "      <td>0.045</td>\n",
       "      <td>0.000</td>\n",
       "      <td>0.955</td>\n",
       "    </tr>\n",
       "    <tr>\n",
       "      <th>4</th>\n",
       "      <td>2021-02-12</td>\n",
       "      <td>Jack Dorsey and Jay Z create a bitcoin endowme...</td>\n",
       "      <td>-0.1280</td>\n",
       "      <td>0.066</td>\n",
       "      <td>0.082</td>\n",
       "      <td>0.852</td>\n",
       "    </tr>\n",
       "  </tbody>\n",
       "</table>\n",
       "</div>"
      ],
      "text/plain": [
       "         date                                               text  compound  \\\n",
       "0  2021-02-26  Some things are best left a mystery at least a...    0.6369   \n",
       "1  2021-03-03                                                       0.0000   \n",
       "2  2021-02-16  Bitcoin is the future, again: this morning, it...    0.7041   \n",
       "3  2021-02-12  Miamis mayor, Francis Suarez, is champing at t...    0.1779   \n",
       "4  2021-02-12  Jack Dorsey and Jay Z create a bitcoin endowme...   -0.1280   \n",
       "\n",
       "   positive  negative  neutral  \n",
       "0     0.113     0.000    0.887  \n",
       "1     0.000     0.000    0.000  \n",
       "2     0.140     0.000    0.860  \n",
       "3     0.045     0.000    0.955  \n",
       "4     0.066     0.082    0.852  "
      ]
     },
     "execution_count": 55,
     "metadata": {},
     "output_type": "execute_result"
    }
   ],
   "source": [
    "# Create the Bitcoin sentiment scores DataFrame\n",
    "btc_sentiments = []\n",
    "\n",
    "for article in btc_headlines[\"articles\"]:\n",
    "    try:\n",
    "        text = article[\"content\"]\n",
    "        date = article[\"publishedAt\"][:10]\n",
    "        sentiment = analyzer.polarity_scores(text)\n",
    "        compound = sentiment[\"compound\"]\n",
    "        pos = sentiment[\"pos\"]\n",
    "        neu = sentiment[\"neu\"]\n",
    "        neg = sentiment[\"neg\"]\n",
    "        \n",
    "        btc_sentiments.append({\n",
    "            \"text\": text,\n",
    "            \"date\": date,\n",
    "            \"compound\": compound,\n",
    "            \"positive\": pos,\n",
    "            \"negative\": neg,\n",
    "            \"neutral\": neu\n",
    "            \n",
    "        })\n",
    "        \n",
    "    except AttributeError:\n",
    "        pass\n",
    "    \n",
    "# Create DataFrame\n",
    "btc_df = pd.DataFrame(btc_sentiments)\n",
    "\n",
    "# Reorder DataFrame columns\n",
    "cols = [\"date\", \"text\", \"compound\", \"positive\", \"negative\", \"neutral\"]\n",
    "btc_df = btc_df[cols]\n",
    "\n",
    "btc_df.head()"
   ]
  },
  {
   "cell_type": "code",
   "execution_count": 56,
   "metadata": {},
   "outputs": [
    {
     "data": {
      "text/html": [
       "<div>\n",
       "<style scoped>\n",
       "    .dataframe tbody tr th:only-of-type {\n",
       "        vertical-align: middle;\n",
       "    }\n",
       "\n",
       "    .dataframe tbody tr th {\n",
       "        vertical-align: top;\n",
       "    }\n",
       "\n",
       "    .dataframe thead th {\n",
       "        text-align: right;\n",
       "    }\n",
       "</style>\n",
       "<table border=\"1\" class=\"dataframe\">\n",
       "  <thead>\n",
       "    <tr style=\"text-align: right;\">\n",
       "      <th></th>\n",
       "      <th>date</th>\n",
       "      <th>text</th>\n",
       "      <th>compound</th>\n",
       "      <th>positive</th>\n",
       "      <th>negative</th>\n",
       "      <th>neutral</th>\n",
       "    </tr>\n",
       "  </thead>\n",
       "  <tbody>\n",
       "    <tr>\n",
       "      <th>0</th>\n",
       "      <td>2021-02-18</td>\n",
       "      <td>Worried that the GeForce RTX 3060 will be sold...</td>\n",
       "      <td>-0.3400</td>\n",
       "      <td>0.063</td>\n",
       "      <td>0.119</td>\n",
       "      <td>0.818</td>\n",
       "    </tr>\n",
       "    <tr>\n",
       "      <th>1</th>\n",
       "      <td>2021-03-06</td>\n",
       "      <td>NFTs are the latest cryptocurrency rage these ...</td>\n",
       "      <td>-0.4588</td>\n",
       "      <td>0.066</td>\n",
       "      <td>0.145</td>\n",
       "      <td>0.789</td>\n",
       "    </tr>\n",
       "    <tr>\n",
       "      <th>2</th>\n",
       "      <td>2021-02-27</td>\n",
       "      <td>NFTs (non-fungible tokens) — or scarce digital...</td>\n",
       "      <td>0.4404</td>\n",
       "      <td>0.091</td>\n",
       "      <td>0.000</td>\n",
       "      <td>0.909</td>\n",
       "    </tr>\n",
       "    <tr>\n",
       "      <th>3</th>\n",
       "      <td>2021-02-20</td>\n",
       "      <td>While the first Christie's auction of digital ...</td>\n",
       "      <td>0.0258</td>\n",
       "      <td>0.030</td>\n",
       "      <td>0.000</td>\n",
       "      <td>0.970</td>\n",
       "    </tr>\n",
       "    <tr>\n",
       "      <th>4</th>\n",
       "      <td>2021-02-18</td>\n",
       "      <td>Attempting to get ahead of cryptocurrency mine...</td>\n",
       "      <td>0.7096</td>\n",
       "      <td>0.144</td>\n",
       "      <td>0.000</td>\n",
       "      <td>0.856</td>\n",
       "    </tr>\n",
       "  </tbody>\n",
       "</table>\n",
       "</div>"
      ],
      "text/plain": [
       "         date                                               text  compound  \\\n",
       "0  2021-02-18  Worried that the GeForce RTX 3060 will be sold...   -0.3400   \n",
       "1  2021-03-06  NFTs are the latest cryptocurrency rage these ...   -0.4588   \n",
       "2  2021-02-27  NFTs (non-fungible tokens) — or scarce digital...    0.4404   \n",
       "3  2021-02-20  While the first Christie's auction of digital ...    0.0258   \n",
       "4  2021-02-18  Attempting to get ahead of cryptocurrency mine...    0.7096   \n",
       "\n",
       "   positive  negative  neutral  \n",
       "0     0.063     0.119    0.818  \n",
       "1     0.066     0.145    0.789  \n",
       "2     0.091     0.000    0.909  \n",
       "3     0.030     0.000    0.970  \n",
       "4     0.144     0.000    0.856  "
      ]
     },
     "execution_count": 56,
     "metadata": {},
     "output_type": "execute_result"
    }
   ],
   "source": [
    "# Create the Ethereum sentiment scores DataFrame\n",
    "eth_sentiments = []\n",
    "\n",
    "for article in eth_headlines[\"articles\"]:\n",
    "    try:\n",
    "        text = article[\"content\"]\n",
    "        date = article[\"publishedAt\"][:10]\n",
    "        sentiment = analyzer.polarity_scores(text)\n",
    "        compound = sentiment[\"compound\"]\n",
    "        pos = sentiment[\"pos\"]\n",
    "        neu = sentiment[\"neu\"]\n",
    "        neg = sentiment[\"neg\"]\n",
    "        \n",
    "        eth_sentiments.append({\n",
    "            \"text\": text,\n",
    "            \"date\": date,\n",
    "            \"compound\": compound,\n",
    "            \"positive\": pos,\n",
    "            \"negative\": neg,\n",
    "            \"neutral\": neu\n",
    "            \n",
    "        })\n",
    "        \n",
    "    except AttributeError:\n",
    "        pass\n",
    "    \n",
    "# Create DataFrame\n",
    "eth_df = pd.DataFrame(eth_sentiments)\n",
    "\n",
    "# Reorder DataFrame columns\n",
    "cols = [\"date\", \"text\", \"compound\", \"positive\", \"negative\", \"neutral\"]\n",
    "eth_df = eth_df[cols]\n",
    "\n",
    "eth_df.head()"
   ]
  },
  {
   "cell_type": "code",
   "execution_count": 57,
   "metadata": {},
   "outputs": [
    {
     "data": {
      "text/html": [
       "<div>\n",
       "<style scoped>\n",
       "    .dataframe tbody tr th:only-of-type {\n",
       "        vertical-align: middle;\n",
       "    }\n",
       "\n",
       "    .dataframe tbody tr th {\n",
       "        vertical-align: top;\n",
       "    }\n",
       "\n",
       "    .dataframe thead th {\n",
       "        text-align: right;\n",
       "    }\n",
       "</style>\n",
       "<table border=\"1\" class=\"dataframe\">\n",
       "  <thead>\n",
       "    <tr style=\"text-align: right;\">\n",
       "      <th></th>\n",
       "      <th>compound</th>\n",
       "      <th>positive</th>\n",
       "      <th>negative</th>\n",
       "      <th>neutral</th>\n",
       "    </tr>\n",
       "  </thead>\n",
       "  <tbody>\n",
       "    <tr>\n",
       "      <th>count</th>\n",
       "      <td>18.000000</td>\n",
       "      <td>18.000000</td>\n",
       "      <td>18.000000</td>\n",
       "      <td>18.000000</td>\n",
       "    </tr>\n",
       "    <tr>\n",
       "      <th>mean</th>\n",
       "      <td>0.269544</td>\n",
       "      <td>0.067111</td>\n",
       "      <td>0.004556</td>\n",
       "      <td>0.872778</td>\n",
       "    </tr>\n",
       "    <tr>\n",
       "      <th>std</th>\n",
       "      <td>0.312401</td>\n",
       "      <td>0.071077</td>\n",
       "      <td>0.019328</td>\n",
       "      <td>0.229214</td>\n",
       "    </tr>\n",
       "    <tr>\n",
       "      <th>min</th>\n",
       "      <td>-0.128000</td>\n",
       "      <td>0.000000</td>\n",
       "      <td>0.000000</td>\n",
       "      <td>0.000000</td>\n",
       "    </tr>\n",
       "    <tr>\n",
       "      <th>25%</th>\n",
       "      <td>0.000000</td>\n",
       "      <td>0.000000</td>\n",
       "      <td>0.000000</td>\n",
       "      <td>0.856250</td>\n",
       "    </tr>\n",
       "    <tr>\n",
       "      <th>50%</th>\n",
       "      <td>0.140300</td>\n",
       "      <td>0.055500</td>\n",
       "      <td>0.000000</td>\n",
       "      <td>0.917500</td>\n",
       "    </tr>\n",
       "    <tr>\n",
       "      <th>75%</th>\n",
       "      <td>0.559650</td>\n",
       "      <td>0.110000</td>\n",
       "      <td>0.000000</td>\n",
       "      <td>1.000000</td>\n",
       "    </tr>\n",
       "    <tr>\n",
       "      <th>max</th>\n",
       "      <td>0.831600</td>\n",
       "      <td>0.246000</td>\n",
       "      <td>0.082000</td>\n",
       "      <td>1.000000</td>\n",
       "    </tr>\n",
       "  </tbody>\n",
       "</table>\n",
       "</div>"
      ],
      "text/plain": [
       "        compound   positive   negative    neutral\n",
       "count  18.000000  18.000000  18.000000  18.000000\n",
       "mean    0.269544   0.067111   0.004556   0.872778\n",
       "std     0.312401   0.071077   0.019328   0.229214\n",
       "min    -0.128000   0.000000   0.000000   0.000000\n",
       "25%     0.000000   0.000000   0.000000   0.856250\n",
       "50%     0.140300   0.055500   0.000000   0.917500\n",
       "75%     0.559650   0.110000   0.000000   1.000000\n",
       "max     0.831600   0.246000   0.082000   1.000000"
      ]
     },
     "execution_count": 57,
     "metadata": {},
     "output_type": "execute_result"
    }
   ],
   "source": [
    "# Describe the Bitcoin Sentiment\n",
    "btc_df.describe()"
   ]
  },
  {
   "cell_type": "code",
   "execution_count": 58,
   "metadata": {},
   "outputs": [
    {
     "data": {
      "text/html": [
       "<div>\n",
       "<style scoped>\n",
       "    .dataframe tbody tr th:only-of-type {\n",
       "        vertical-align: middle;\n",
       "    }\n",
       "\n",
       "    .dataframe tbody tr th {\n",
       "        vertical-align: top;\n",
       "    }\n",
       "\n",
       "    .dataframe thead th {\n",
       "        text-align: right;\n",
       "    }\n",
       "</style>\n",
       "<table border=\"1\" class=\"dataframe\">\n",
       "  <thead>\n",
       "    <tr style=\"text-align: right;\">\n",
       "      <th></th>\n",
       "      <th>compound</th>\n",
       "      <th>positive</th>\n",
       "      <th>negative</th>\n",
       "      <th>neutral</th>\n",
       "    </tr>\n",
       "  </thead>\n",
       "  <tbody>\n",
       "    <tr>\n",
       "      <th>count</th>\n",
       "      <td>20.000000</td>\n",
       "      <td>20.000000</td>\n",
       "      <td>20.000000</td>\n",
       "      <td>20.000000</td>\n",
       "    </tr>\n",
       "    <tr>\n",
       "      <th>mean</th>\n",
       "      <td>0.237070</td>\n",
       "      <td>0.074700</td>\n",
       "      <td>0.019200</td>\n",
       "      <td>0.906100</td>\n",
       "    </tr>\n",
       "    <tr>\n",
       "      <th>std</th>\n",
       "      <td>0.370410</td>\n",
       "      <td>0.062607</td>\n",
       "      <td>0.043104</td>\n",
       "      <td>0.070778</td>\n",
       "    </tr>\n",
       "    <tr>\n",
       "      <th>min</th>\n",
       "      <td>-0.458800</td>\n",
       "      <td>0.000000</td>\n",
       "      <td>0.000000</td>\n",
       "      <td>0.754000</td>\n",
       "    </tr>\n",
       "    <tr>\n",
       "      <th>25%</th>\n",
       "      <td>0.000000</td>\n",
       "      <td>0.022500</td>\n",
       "      <td>0.000000</td>\n",
       "      <td>0.861750</td>\n",
       "    </tr>\n",
       "    <tr>\n",
       "      <th>50%</th>\n",
       "      <td>0.307100</td>\n",
       "      <td>0.073500</td>\n",
       "      <td>0.000000</td>\n",
       "      <td>0.915500</td>\n",
       "    </tr>\n",
       "    <tr>\n",
       "      <th>75%</th>\n",
       "      <td>0.473275</td>\n",
       "      <td>0.096500</td>\n",
       "      <td>0.000000</td>\n",
       "      <td>0.946750</td>\n",
       "    </tr>\n",
       "    <tr>\n",
       "      <th>max</th>\n",
       "      <td>0.831600</td>\n",
       "      <td>0.246000</td>\n",
       "      <td>0.145000</td>\n",
       "      <td>1.000000</td>\n",
       "    </tr>\n",
       "  </tbody>\n",
       "</table>\n",
       "</div>"
      ],
      "text/plain": [
       "        compound   positive   negative    neutral\n",
       "count  20.000000  20.000000  20.000000  20.000000\n",
       "mean    0.237070   0.074700   0.019200   0.906100\n",
       "std     0.370410   0.062607   0.043104   0.070778\n",
       "min    -0.458800   0.000000   0.000000   0.754000\n",
       "25%     0.000000   0.022500   0.000000   0.861750\n",
       "50%     0.307100   0.073500   0.000000   0.915500\n",
       "75%     0.473275   0.096500   0.000000   0.946750\n",
       "max     0.831600   0.246000   0.145000   1.000000"
      ]
     },
     "execution_count": 58,
     "metadata": {},
     "output_type": "execute_result"
    }
   ],
   "source": [
    "# Describe the Ethereum Sentiment\n",
    "eth_df.describe()"
   ]
  },
  {
   "cell_type": "markdown",
   "metadata": {},
   "source": [
    "### Questions:\n",
    "\n",
    "Q: Which coin had the highest mean positive score?\n",
    "\n",
    "A: Ethereum had the highest mean positive score\n",
    "\n",
    "Q: Which coin had the highest compound score?\n",
    "\n",
    "A: Ethereum had the highest compound score\n",
    "\n",
    "Q. Which coin had the highest positive score?\n",
    "\n",
    "A: Ethereum had the highest positive score"
   ]
  },
  {
   "cell_type": "markdown",
   "metadata": {},
   "source": [
    "---"
   ]
  },
  {
   "cell_type": "markdown",
   "metadata": {},
   "source": [
    "## 2. Natural Language Processing\n",
    "---\n",
    "###   Tokenizer\n",
    "\n",
    "In this section, you will use NLTK and Python to tokenize the text for each coin. Be sure to:\n",
    "1. Lowercase each word.\n",
    "2. Remove Punctuation.\n",
    "3. Remove Stopwords."
   ]
  },
  {
   "cell_type": "code",
   "execution_count": 73,
   "metadata": {},
   "outputs": [
    {
     "name": "stderr",
     "output_type": "stream",
     "text": [
      "[nltk_data] Downloading package stopwords to\n",
      "[nltk_data]     C:\\Users\\tarik\\AppData\\Roaming\\nltk_data...\n",
      "[nltk_data]   Package stopwords is already up-to-date!\n"
     ]
    },
    {
     "data": {
      "text/plain": [
       "True"
      ]
     },
     "execution_count": 73,
     "metadata": {},
     "output_type": "execute_result"
    }
   ],
   "source": [
    "from nltk.tokenize import word_tokenize, sent_tokenize\n",
    "from nltk.corpus import stopwords\n",
    "from nltk.stem import WordNetLemmatizer, PorterStemmer\n",
    "from string import punctuation\n",
    "import nltk\n",
    "nltk.download('stopwords')"
   ]
  },
  {
   "cell_type": "code",
   "execution_count": 96,
   "metadata": {},
   "outputs": [
    {
     "data": {
      "text/plain": [
       "{'source': {'id': 'mashable', 'name': 'Mashable'},\n",
       " 'author': 'Jack Morse',\n",
       " 'title': 'Coinbase says unmasking Satoshi Nakamoto might harm its business',\n",
       " 'description': 'Some things are best left a mystery — at least as far as Coinbase is concerned.\\xa0\\nThe San Francisco-based cryptocurrency exchange has been preparing to go public since last year, and in a Thursday prospectus filed with the Securities and Exchange Commission (S…',\n",
       " 'url': 'https://mashable.com/article/coinbase-direct-listing-unmasking-bitcoin-creator-satoshi-nakamoto/',\n",
       " 'urlToImage': 'https://mondrian.mashable.com/2021%252F02%252F26%252Fe8%252F17dd59c8ab704170bf5e29da12d9ebbf.c6b86.jpg%252F1200x630.jpg?signature=Fs2g1MN2HN_UfNi1kogIjVxyo8E=',\n",
       " 'publishedAt': '2021-02-26T00:40:52Z',\n",
       " 'content': 'Some things are best left a mystery at least as far as Coinbase is concerned.\\xa0\\r\\nThe San Francisco-based cryptocurrency exchange has been preparing to go public since last year, and in a Thursday pros… [+1953 chars]'}"
      ]
     },
     "execution_count": 96,
     "metadata": {},
     "output_type": "execute_result"
    }
   ],
   "source": [
    "btc_article = btc_headlines[\"articles\"][1]\n",
    "btc_article "
   ]
  },
  {
   "cell_type": "code",
   "execution_count": 100,
   "metadata": {},
   "outputs": [
    {
     "data": {
      "text/plain": [
       "{'source': {'id': 'engadget', 'name': 'Engadget'},\n",
       " 'author': 'Richard Lawler',\n",
       " 'title': \"Remastered 'nyan cat' art sells for the equivalent of $605k\",\n",
       " 'description': \"While the first Christie's auction of digital artwork backed by NFT (non-fungible token) is still a few days away, one of the most notable sales in that world has already taken place. Chris Torres created the rainbow-streaming animation of Nyan Cat based on h…\",\n",
       " 'url': 'https://www.engadget.com/nyan-cat-auction-nft-114830079.html',\n",
       " 'urlToImage': 'https://s.yimg.com/uu/api/res/1.2/KG2FppAKtY_v30xQhjNg_w--~B/aD03NzI7dz0xMDAwO2FwcGlkPXl0YWNoeW9u/https://s.yimg.com/os/creatr-uploaded-images/2021-02/2a8ceeb0-7371-11eb-bded-6fc531918d34.cf.jpg',\n",
       " 'publishedAt': '2021-02-20T11:48:30Z',\n",
       " 'content': \"While the first Christie's auction of digital artwork backed by NFT (non-fungible token) is still a few days away, one of the most notable sales in that world has already taken place. Chris Torres cr… [+1064 chars]\"}"
      ]
     },
     "execution_count": 100,
     "metadata": {},
     "output_type": "execute_result"
    }
   ],
   "source": [
    "eth_article = eth_headlines[\"articles\"][3]\n",
    "eth_article"
   ]
  },
  {
   "cell_type": "code",
   "execution_count": 101,
   "metadata": {},
   "outputs": [],
   "source": [
    "# Instantiate the lemmatizer\n",
    "lemmatizer = WordNetLemmatizer()\n",
    "\n",
    "# Create a list of stopwords\n",
    "sw = set(stopwords.words('english'))\n",
    "# Expand the default stopwords list if necessary\n",
    "sw_addon = {'for', 'said'}"
   ]
  },
  {
   "cell_type": "code",
   "execution_count": 104,
   "metadata": {},
   "outputs": [],
   "source": [
    "# Complete the tokenizer function\n",
    "def tokenizer(btc_article):\n",
    "    \"\"\"Tokenizes text.\"\"\"\n",
    "    sw = set(stopwords.words('english'))\n",
    "    regex = re.compile(\"[^a-zA-Z ]\")\n",
    "    re_clean = regex.sub('', doc)\n",
    "    words = word_tokenize(re_clean)\n",
    "    lem = [lemmatizer.lemmatize(word) for word in words]\n",
    "    output = [word.lower() for word in lem if word.lower() not in sw]\n",
    "    return ' '.join(output)\n",
    "    return tokens"
   ]
  },
  {
   "cell_type": "code",
   "execution_count": 13,
   "metadata": {},
   "outputs": [],
   "source": [
    "# Create a new tokens column for Bitcoin\n",
    "# YOUR CODE HERE!"
   ]
  },
  {
   "cell_type": "code",
   "execution_count": 14,
   "metadata": {},
   "outputs": [],
   "source": [
    "# Create a new tokens column for Ethereum\n",
    "# YOUR CODE HERE!"
   ]
  },
  {
   "cell_type": "markdown",
   "metadata": {},
   "source": [
    "---"
   ]
  },
  {
   "cell_type": "markdown",
   "metadata": {},
   "source": [
    "### NGrams and Frequency Analysis\n",
    "\n",
    "In this section you will look at the ngrams and word frequency for each coin. \n",
    "\n",
    "1. Use NLTK to produce the n-grams for N = 2. \n",
    "2. List the top 10 words for each coin. "
   ]
  },
  {
   "cell_type": "code",
   "execution_count": 79,
   "metadata": {},
   "outputs": [],
   "source": [
    "from collections import Counter\n",
    "from nltk import ngrams"
   ]
  },
  {
   "cell_type": "code",
   "execution_count": null,
   "metadata": {},
   "outputs": [],
   "source": []
  },
  {
   "cell_type": "code",
   "execution_count": 110,
   "metadata": {},
   "outputs": [
    {
     "name": "stdout",
     "output_type": "stream",
     "text": [
      "{'source': {'id': 'mashable', 'name': 'Mashable'}, 'author': 'Jack Morse', 'title': 'Coinbase says unmasking Satoshi Nakamoto might harm its business', 'description': 'Some things are best left a mystery — at least as far as Coinbase is concerned.\\xa0\\nThe San Francisco-based cryptocurrency exchange has been preparing to go public since last year, and in a Thursday prospectus filed with the Securities and Exchange Commission (S…', 'url': 'https://mashable.com/article/coinbase-direct-listing-unmasking-bitcoin-creator-satoshi-nakamoto/', 'urlToImage': 'https://mondrian.mashable.com/2021%252F02%252F26%252Fe8%252F17dd59c8ab704170bf5e29da12d9ebbf.c6b86.jpg%252F1200x630.jpg?signature=Fs2g1MN2HN_UfNi1kogIjVxyo8E=', 'publishedAt': '2021-02-26T00:40:52Z', 'content': 'Some things are best left a mystery at least as far as Coinbase is concerned.\\xa0\\r\\nThe San Francisco-based cryptocurrency exchange has been preparing to go public since last year, and in a Thursday pros… [+1953 chars]'}\n"
     ]
    }
   ],
   "source": [
    "# Generate the Bitcoin N-grams where N=2\n",
    "word_counts = Counter(btc_article)\n",
    "print(dict(word_counts))"
   ]
  },
  {
   "cell_type": "code",
   "execution_count": 111,
   "metadata": {},
   "outputs": [
    {
     "name": "stdout",
     "output_type": "stream",
     "text": [
      "{'source': {'id': 'mashable', 'name': 'Mashable'}, 'author': 'Jack Morse', 'title': 'Coinbase says unmasking Satoshi Nakamoto might harm its business', 'description': 'Some things are best left a mystery — at least as far as Coinbase is concerned.\\xa0\\nThe San Francisco-based cryptocurrency exchange has been preparing to go public since last year, and in a Thursday prospectus filed with the Securities and Exchange Commission (S…', 'url': 'https://mashable.com/article/coinbase-direct-listing-unmasking-bitcoin-creator-satoshi-nakamoto/', 'urlToImage': 'https://mondrian.mashable.com/2021%252F02%252F26%252Fe8%252F17dd59c8ab704170bf5e29da12d9ebbf.c6b86.jpg%252F1200x630.jpg?signature=Fs2g1MN2HN_UfNi1kogIjVxyo8E=', 'publishedAt': '2021-02-26T00:40:52Z', 'content': 'Some things are best left a mystery at least as far as Coinbase is concerned.\\xa0\\r\\nThe San Francisco-based cryptocurrency exchange has been preparing to go public since last year, and in a Thursday pros… [+1953 chars]'}\n"
     ]
    }
   ],
   "source": [
    "# Generate the Ethereum N-grams where N=2\n",
    "word_counts2 = Counter(eth_article)\n",
    "print(dict(word_counts))"
   ]
  },
  {
   "cell_type": "code",
   "execution_count": 112,
   "metadata": {},
   "outputs": [],
   "source": [
    "# Function token_count generates the top 10 words for a given coin\n",
    "def token_count(tokens, N=3):\n",
    "    \"\"\"Returns the top N tokens from the frequency count\"\"\"\n",
    "    return Counter(tokens).most_common(N)"
   ]
  },
  {
   "cell_type": "code",
   "execution_count": 121,
   "metadata": {},
   "outputs": [
    {
     "ename": "TypeError",
     "evalue": "'<' not supported between instances of 'dict' and 'str'",
     "output_type": "error",
     "traceback": [
      "\u001b[1;31m---------------------------------------------------------------------------\u001b[0m",
      "\u001b[1;31mTypeError\u001b[0m                                 Traceback (most recent call last)",
      "\u001b[1;32m<ipython-input-121-2b6ace8db9e6>\u001b[0m in \u001b[0;36m<module>\u001b[1;34m\u001b[0m\n\u001b[0;32m      1\u001b[0m \u001b[1;31m# Use token_count to get the top 10 words for Bitcoin\u001b[0m\u001b[1;33m\u001b[0m\u001b[1;33m\u001b[0m\u001b[1;33m\u001b[0m\u001b[0m\n\u001b[1;32m----> 2\u001b[1;33m \u001b[0mprint\u001b[0m\u001b[1;33m(\u001b[0m\u001b[0mdict\u001b[0m\u001b[1;33m(\u001b[0m\u001b[0mword_counts\u001b[0m\u001b[1;33m.\u001b[0m\u001b[0mmost_common\u001b[0m\u001b[1;33m(\u001b[0m\u001b[1;36m10\u001b[0m\u001b[1;33m)\u001b[0m\u001b[1;33m)\u001b[0m\u001b[1;33m)\u001b[0m\u001b[1;33m\u001b[0m\u001b[1;33m\u001b[0m\u001b[0m\n\u001b[0m",
      "\u001b[1;32m~\\anaconda3\\lib\\collections\\__init__.py\u001b[0m in \u001b[0;36mmost_common\u001b[1;34m(self, n)\u001b[0m\n\u001b[0;32m    568\u001b[0m         \u001b[1;32mif\u001b[0m \u001b[0mn\u001b[0m \u001b[1;32mis\u001b[0m \u001b[1;32mNone\u001b[0m\u001b[1;33m:\u001b[0m\u001b[1;33m\u001b[0m\u001b[1;33m\u001b[0m\u001b[0m\n\u001b[0;32m    569\u001b[0m             \u001b[1;32mreturn\u001b[0m \u001b[0msorted\u001b[0m\u001b[1;33m(\u001b[0m\u001b[0mself\u001b[0m\u001b[1;33m.\u001b[0m\u001b[0mitems\u001b[0m\u001b[1;33m(\u001b[0m\u001b[1;33m)\u001b[0m\u001b[1;33m,\u001b[0m \u001b[0mkey\u001b[0m\u001b[1;33m=\u001b[0m\u001b[0m_itemgetter\u001b[0m\u001b[1;33m(\u001b[0m\u001b[1;36m1\u001b[0m\u001b[1;33m)\u001b[0m\u001b[1;33m,\u001b[0m \u001b[0mreverse\u001b[0m\u001b[1;33m=\u001b[0m\u001b[1;32mTrue\u001b[0m\u001b[1;33m)\u001b[0m\u001b[1;33m\u001b[0m\u001b[1;33m\u001b[0m\u001b[0m\n\u001b[1;32m--> 570\u001b[1;33m         \u001b[1;32mreturn\u001b[0m \u001b[0m_heapq\u001b[0m\u001b[1;33m.\u001b[0m\u001b[0mnlargest\u001b[0m\u001b[1;33m(\u001b[0m\u001b[0mn\u001b[0m\u001b[1;33m,\u001b[0m \u001b[0mself\u001b[0m\u001b[1;33m.\u001b[0m\u001b[0mitems\u001b[0m\u001b[1;33m(\u001b[0m\u001b[1;33m)\u001b[0m\u001b[1;33m,\u001b[0m \u001b[0mkey\u001b[0m\u001b[1;33m=\u001b[0m\u001b[0m_itemgetter\u001b[0m\u001b[1;33m(\u001b[0m\u001b[1;36m1\u001b[0m\u001b[1;33m)\u001b[0m\u001b[1;33m)\u001b[0m\u001b[1;33m\u001b[0m\u001b[1;33m\u001b[0m\u001b[0m\n\u001b[0m\u001b[0;32m    571\u001b[0m \u001b[1;33m\u001b[0m\u001b[0m\n\u001b[0;32m    572\u001b[0m     \u001b[1;32mdef\u001b[0m \u001b[0melements\u001b[0m\u001b[1;33m(\u001b[0m\u001b[0mself\u001b[0m\u001b[1;33m)\u001b[0m\u001b[1;33m:\u001b[0m\u001b[1;33m\u001b[0m\u001b[1;33m\u001b[0m\u001b[0m\n",
      "\u001b[1;32m~\\anaconda3\\lib\\heapq.py\u001b[0m in \u001b[0;36mnlargest\u001b[1;34m(n, iterable, key)\u001b[0m\n\u001b[0;32m    539\u001b[0m     \u001b[1;32melse\u001b[0m\u001b[1;33m:\u001b[0m\u001b[1;33m\u001b[0m\u001b[1;33m\u001b[0m\u001b[0m\n\u001b[0;32m    540\u001b[0m         \u001b[1;32mif\u001b[0m \u001b[0mn\u001b[0m \u001b[1;33m>=\u001b[0m \u001b[0msize\u001b[0m\u001b[1;33m:\u001b[0m\u001b[1;33m\u001b[0m\u001b[1;33m\u001b[0m\u001b[0m\n\u001b[1;32m--> 541\u001b[1;33m             \u001b[1;32mreturn\u001b[0m \u001b[0msorted\u001b[0m\u001b[1;33m(\u001b[0m\u001b[0miterable\u001b[0m\u001b[1;33m,\u001b[0m \u001b[0mkey\u001b[0m\u001b[1;33m=\u001b[0m\u001b[0mkey\u001b[0m\u001b[1;33m,\u001b[0m \u001b[0mreverse\u001b[0m\u001b[1;33m=\u001b[0m\u001b[1;32mTrue\u001b[0m\u001b[1;33m)\u001b[0m\u001b[1;33m[\u001b[0m\u001b[1;33m:\u001b[0m\u001b[0mn\u001b[0m\u001b[1;33m]\u001b[0m\u001b[1;33m\u001b[0m\u001b[1;33m\u001b[0m\u001b[0m\n\u001b[0m\u001b[0;32m    542\u001b[0m \u001b[1;33m\u001b[0m\u001b[0m\n\u001b[0;32m    543\u001b[0m     \u001b[1;31m# When key is none, use simpler decoration\u001b[0m\u001b[1;33m\u001b[0m\u001b[1;33m\u001b[0m\u001b[1;33m\u001b[0m\u001b[0m\n",
      "\u001b[1;31mTypeError\u001b[0m: '<' not supported between instances of 'dict' and 'str'"
     ]
    }
   ],
   "source": [
    "# Use token_count to get the top 10 words for Bitcoin\n",
    "print(dict(word_counts.most_common(10)))"
   ]
  },
  {
   "cell_type": "code",
   "execution_count": 118,
   "metadata": {},
   "outputs": [
    {
     "ename": "TypeError",
     "evalue": "'<' not supported between instances of 'dict' and 'str'",
     "output_type": "error",
     "traceback": [
      "\u001b[1;31m---------------------------------------------------------------------------\u001b[0m",
      "\u001b[1;31mTypeError\u001b[0m                                 Traceback (most recent call last)",
      "\u001b[1;32m<ipython-input-118-67ae04efb531>\u001b[0m in \u001b[0;36m<module>\u001b[1;34m\u001b[0m\n\u001b[0;32m      1\u001b[0m \u001b[1;31m# Use token_count to get the top 10 words for Ethereum\u001b[0m\u001b[1;33m\u001b[0m\u001b[1;33m\u001b[0m\u001b[1;33m\u001b[0m\u001b[0m\n\u001b[1;32m----> 2\u001b[1;33m \u001b[0mprint\u001b[0m\u001b[1;33m(\u001b[0m\u001b[0mdict\u001b[0m\u001b[1;33m(\u001b[0m\u001b[0mword_counts2\u001b[0m\u001b[1;33m.\u001b[0m\u001b[0mmost_common\u001b[0m\u001b[1;33m(\u001b[0m\u001b[1;36m10\u001b[0m\u001b[1;33m)\u001b[0m\u001b[1;33m)\u001b[0m\u001b[1;33m)\u001b[0m\u001b[1;33m\u001b[0m\u001b[1;33m\u001b[0m\u001b[0m\n\u001b[0m",
      "\u001b[1;32m~\\anaconda3\\lib\\collections\\__init__.py\u001b[0m in \u001b[0;36mmost_common\u001b[1;34m(self, n)\u001b[0m\n\u001b[0;32m    568\u001b[0m         \u001b[1;32mif\u001b[0m \u001b[0mn\u001b[0m \u001b[1;32mis\u001b[0m \u001b[1;32mNone\u001b[0m\u001b[1;33m:\u001b[0m\u001b[1;33m\u001b[0m\u001b[1;33m\u001b[0m\u001b[0m\n\u001b[0;32m    569\u001b[0m             \u001b[1;32mreturn\u001b[0m \u001b[0msorted\u001b[0m\u001b[1;33m(\u001b[0m\u001b[0mself\u001b[0m\u001b[1;33m.\u001b[0m\u001b[0mitems\u001b[0m\u001b[1;33m(\u001b[0m\u001b[1;33m)\u001b[0m\u001b[1;33m,\u001b[0m \u001b[0mkey\u001b[0m\u001b[1;33m=\u001b[0m\u001b[0m_itemgetter\u001b[0m\u001b[1;33m(\u001b[0m\u001b[1;36m1\u001b[0m\u001b[1;33m)\u001b[0m\u001b[1;33m,\u001b[0m \u001b[0mreverse\u001b[0m\u001b[1;33m=\u001b[0m\u001b[1;32mTrue\u001b[0m\u001b[1;33m)\u001b[0m\u001b[1;33m\u001b[0m\u001b[1;33m\u001b[0m\u001b[0m\n\u001b[1;32m--> 570\u001b[1;33m         \u001b[1;32mreturn\u001b[0m \u001b[0m_heapq\u001b[0m\u001b[1;33m.\u001b[0m\u001b[0mnlargest\u001b[0m\u001b[1;33m(\u001b[0m\u001b[0mn\u001b[0m\u001b[1;33m,\u001b[0m \u001b[0mself\u001b[0m\u001b[1;33m.\u001b[0m\u001b[0mitems\u001b[0m\u001b[1;33m(\u001b[0m\u001b[1;33m)\u001b[0m\u001b[1;33m,\u001b[0m \u001b[0mkey\u001b[0m\u001b[1;33m=\u001b[0m\u001b[0m_itemgetter\u001b[0m\u001b[1;33m(\u001b[0m\u001b[1;36m1\u001b[0m\u001b[1;33m)\u001b[0m\u001b[1;33m)\u001b[0m\u001b[1;33m\u001b[0m\u001b[1;33m\u001b[0m\u001b[0m\n\u001b[0m\u001b[0;32m    571\u001b[0m \u001b[1;33m\u001b[0m\u001b[0m\n\u001b[0;32m    572\u001b[0m     \u001b[1;32mdef\u001b[0m \u001b[0melements\u001b[0m\u001b[1;33m(\u001b[0m\u001b[0mself\u001b[0m\u001b[1;33m)\u001b[0m\u001b[1;33m:\u001b[0m\u001b[1;33m\u001b[0m\u001b[1;33m\u001b[0m\u001b[0m\n",
      "\u001b[1;32m~\\anaconda3\\lib\\heapq.py\u001b[0m in \u001b[0;36mnlargest\u001b[1;34m(n, iterable, key)\u001b[0m\n\u001b[0;32m    539\u001b[0m     \u001b[1;32melse\u001b[0m\u001b[1;33m:\u001b[0m\u001b[1;33m\u001b[0m\u001b[1;33m\u001b[0m\u001b[0m\n\u001b[0;32m    540\u001b[0m         \u001b[1;32mif\u001b[0m \u001b[0mn\u001b[0m \u001b[1;33m>=\u001b[0m \u001b[0msize\u001b[0m\u001b[1;33m:\u001b[0m\u001b[1;33m\u001b[0m\u001b[1;33m\u001b[0m\u001b[0m\n\u001b[1;32m--> 541\u001b[1;33m             \u001b[1;32mreturn\u001b[0m \u001b[0msorted\u001b[0m\u001b[1;33m(\u001b[0m\u001b[0miterable\u001b[0m\u001b[1;33m,\u001b[0m \u001b[0mkey\u001b[0m\u001b[1;33m=\u001b[0m\u001b[0mkey\u001b[0m\u001b[1;33m,\u001b[0m \u001b[0mreverse\u001b[0m\u001b[1;33m=\u001b[0m\u001b[1;32mTrue\u001b[0m\u001b[1;33m)\u001b[0m\u001b[1;33m[\u001b[0m\u001b[1;33m:\u001b[0m\u001b[0mn\u001b[0m\u001b[1;33m]\u001b[0m\u001b[1;33m\u001b[0m\u001b[1;33m\u001b[0m\u001b[0m\n\u001b[0m\u001b[0;32m    542\u001b[0m \u001b[1;33m\u001b[0m\u001b[0m\n\u001b[0;32m    543\u001b[0m     \u001b[1;31m# When key is none, use simpler decoration\u001b[0m\u001b[1;33m\u001b[0m\u001b[1;33m\u001b[0m\u001b[1;33m\u001b[0m\u001b[0m\n",
      "\u001b[1;31mTypeError\u001b[0m: '<' not supported between instances of 'dict' and 'str'"
     ]
    }
   ],
   "source": [
    "# Use token_count to get the top 10 words for Ethereum\n",
    "print(dict(word_counts2.most_common(10)))"
   ]
  },
  {
   "cell_type": "markdown",
   "metadata": {},
   "source": [
    "---"
   ]
  },
  {
   "cell_type": "markdown",
   "metadata": {},
   "source": [
    "### Word Clouds\n",
    "\n",
    "In this section, you will generate word clouds for each coin to summarize the news for each coin"
   ]
  },
  {
   "cell_type": "code",
   "execution_count": 80,
   "metadata": {},
   "outputs": [],
   "source": [
    "from wordcloud import WordCloud\n",
    "import matplotlib.pyplot as plt\n",
    "plt.style.use('seaborn-whitegrid')\n",
    "import matplotlib as mpl\n",
    "mpl.rcParams['figure.figsize'] = [20.0, 10.0]"
   ]
  },
  {
   "cell_type": "code",
   "execution_count": 116,
   "metadata": {},
   "outputs": [],
   "source": [
    "def process_text(btc_article):\n",
    "    sw = set(stopwords.words('english'))\n",
    "    regex = re.compile(\"[^a-zA-Z ]\")\n",
    "    re_clean = regex.sub('', article)\n",
    "    words = word_tokenize(re_clean)\n",
    "    lem = [lemmatizer.lemmatize(word) for word in words]\n",
    "    output = [word.lower() for word in lem if word.lower() not in sw]\n",
    "    return output"
   ]
  },
  {
   "cell_type": "code",
   "execution_count": 117,
   "metadata": {},
   "outputs": [
    {
     "ename": "TypeError",
     "evalue": "expected string or bytes-like object",
     "output_type": "error",
     "traceback": [
      "\u001b[1;31m---------------------------------------------------------------------------\u001b[0m",
      "\u001b[1;31mTypeError\u001b[0m                                 Traceback (most recent call last)",
      "\u001b[1;32m<ipython-input-117-d1617ea08b00>\u001b[0m in \u001b[0;36m<module>\u001b[1;34m\u001b[0m\n\u001b[0;32m      1\u001b[0m \u001b[1;31m# Generate the Bitcoin word cloud\u001b[0m\u001b[1;33m\u001b[0m\u001b[1;33m\u001b[0m\u001b[1;33m\u001b[0m\u001b[0m\n\u001b[0;32m      2\u001b[0m \u001b[0mbig_string\u001b[0m \u001b[1;33m=\u001b[0m \u001b[1;34m' '\u001b[0m\u001b[1;33m.\u001b[0m\u001b[0mjoin\u001b[0m\u001b[1;33m(\u001b[0m\u001b[0mbtc_article\u001b[0m\u001b[1;33m)\u001b[0m\u001b[1;33m\u001b[0m\u001b[1;33m\u001b[0m\u001b[0m\n\u001b[1;32m----> 3\u001b[1;33m \u001b[0minput_text\u001b[0m \u001b[1;33m=\u001b[0m \u001b[0mprocess_text\u001b[0m\u001b[1;33m(\u001b[0m\u001b[0mbig_string\u001b[0m\u001b[1;33m)\u001b[0m\u001b[1;33m\u001b[0m\u001b[1;33m\u001b[0m\u001b[0m\n\u001b[0m",
      "\u001b[1;32m<ipython-input-116-d11ecf0cafa0>\u001b[0m in \u001b[0;36mprocess_text\u001b[1;34m(btc_article)\u001b[0m\n\u001b[0;32m      2\u001b[0m     \u001b[0msw\u001b[0m \u001b[1;33m=\u001b[0m \u001b[0mset\u001b[0m\u001b[1;33m(\u001b[0m\u001b[0mstopwords\u001b[0m\u001b[1;33m.\u001b[0m\u001b[0mwords\u001b[0m\u001b[1;33m(\u001b[0m\u001b[1;34m'english'\u001b[0m\u001b[1;33m)\u001b[0m\u001b[1;33m)\u001b[0m\u001b[1;33m\u001b[0m\u001b[1;33m\u001b[0m\u001b[0m\n\u001b[0;32m      3\u001b[0m     \u001b[0mregex\u001b[0m \u001b[1;33m=\u001b[0m \u001b[0mre\u001b[0m\u001b[1;33m.\u001b[0m\u001b[0mcompile\u001b[0m\u001b[1;33m(\u001b[0m\u001b[1;34m\"[^a-zA-Z ]\"\u001b[0m\u001b[1;33m)\u001b[0m\u001b[1;33m\u001b[0m\u001b[1;33m\u001b[0m\u001b[0m\n\u001b[1;32m----> 4\u001b[1;33m     \u001b[0mre_clean\u001b[0m \u001b[1;33m=\u001b[0m \u001b[0mregex\u001b[0m\u001b[1;33m.\u001b[0m\u001b[0msub\u001b[0m\u001b[1;33m(\u001b[0m\u001b[1;34m''\u001b[0m\u001b[1;33m,\u001b[0m \u001b[0marticle\u001b[0m\u001b[1;33m)\u001b[0m\u001b[1;33m\u001b[0m\u001b[1;33m\u001b[0m\u001b[0m\n\u001b[0m\u001b[0;32m      5\u001b[0m     \u001b[0mwords\u001b[0m \u001b[1;33m=\u001b[0m \u001b[0mword_tokenize\u001b[0m\u001b[1;33m(\u001b[0m\u001b[0mre_clean\u001b[0m\u001b[1;33m)\u001b[0m\u001b[1;33m\u001b[0m\u001b[1;33m\u001b[0m\u001b[0m\n\u001b[0;32m      6\u001b[0m     \u001b[0mlem\u001b[0m \u001b[1;33m=\u001b[0m \u001b[1;33m[\u001b[0m\u001b[0mlemmatizer\u001b[0m\u001b[1;33m.\u001b[0m\u001b[0mlemmatize\u001b[0m\u001b[1;33m(\u001b[0m\u001b[0mword\u001b[0m\u001b[1;33m)\u001b[0m \u001b[1;32mfor\u001b[0m \u001b[0mword\u001b[0m \u001b[1;32min\u001b[0m \u001b[0mwords\u001b[0m\u001b[1;33m]\u001b[0m\u001b[1;33m\u001b[0m\u001b[1;33m\u001b[0m\u001b[0m\n",
      "\u001b[1;31mTypeError\u001b[0m: expected string or bytes-like object"
     ]
    }
   ],
   "source": [
    "# Generate the Bitcoin word cloud\n",
    "big_string = ' '.join(btc_article)\n",
    "input_text = process_text(big_string)"
   ]
  },
  {
   "cell_type": "code",
   "execution_count": 122,
   "metadata": {},
   "outputs": [
    {
     "ename": "TypeError",
     "evalue": "expected string or bytes-like object",
     "output_type": "error",
     "traceback": [
      "\u001b[1;31m---------------------------------------------------------------------------\u001b[0m",
      "\u001b[1;31mTypeError\u001b[0m                                 Traceback (most recent call last)",
      "\u001b[1;32m<ipython-input-122-5a90ecac50d5>\u001b[0m in \u001b[0;36m<module>\u001b[1;34m\u001b[0m\n\u001b[0;32m      1\u001b[0m \u001b[1;31m# Generate the Ethereum word cloud\u001b[0m\u001b[1;33m\u001b[0m\u001b[1;33m\u001b[0m\u001b[1;33m\u001b[0m\u001b[0m\n\u001b[0;32m      2\u001b[0m \u001b[0mbig_string\u001b[0m \u001b[1;33m=\u001b[0m \u001b[1;34m' '\u001b[0m\u001b[1;33m.\u001b[0m\u001b[0mjoin\u001b[0m\u001b[1;33m(\u001b[0m\u001b[0meth_article\u001b[0m\u001b[1;33m)\u001b[0m\u001b[1;33m\u001b[0m\u001b[1;33m\u001b[0m\u001b[0m\n\u001b[1;32m----> 3\u001b[1;33m \u001b[0minput_text\u001b[0m \u001b[1;33m=\u001b[0m \u001b[0mprocess_text\u001b[0m\u001b[1;33m(\u001b[0m\u001b[0mbig_string\u001b[0m\u001b[1;33m)\u001b[0m\u001b[1;33m\u001b[0m\u001b[1;33m\u001b[0m\u001b[0m\n\u001b[0m",
      "\u001b[1;32m<ipython-input-120-d11ecf0cafa0>\u001b[0m in \u001b[0;36mprocess_text\u001b[1;34m(btc_article)\u001b[0m\n\u001b[0;32m      2\u001b[0m     \u001b[0msw\u001b[0m \u001b[1;33m=\u001b[0m \u001b[0mset\u001b[0m\u001b[1;33m(\u001b[0m\u001b[0mstopwords\u001b[0m\u001b[1;33m.\u001b[0m\u001b[0mwords\u001b[0m\u001b[1;33m(\u001b[0m\u001b[1;34m'english'\u001b[0m\u001b[1;33m)\u001b[0m\u001b[1;33m)\u001b[0m\u001b[1;33m\u001b[0m\u001b[1;33m\u001b[0m\u001b[0m\n\u001b[0;32m      3\u001b[0m     \u001b[0mregex\u001b[0m \u001b[1;33m=\u001b[0m \u001b[0mre\u001b[0m\u001b[1;33m.\u001b[0m\u001b[0mcompile\u001b[0m\u001b[1;33m(\u001b[0m\u001b[1;34m\"[^a-zA-Z ]\"\u001b[0m\u001b[1;33m)\u001b[0m\u001b[1;33m\u001b[0m\u001b[1;33m\u001b[0m\u001b[0m\n\u001b[1;32m----> 4\u001b[1;33m     \u001b[0mre_clean\u001b[0m \u001b[1;33m=\u001b[0m \u001b[0mregex\u001b[0m\u001b[1;33m.\u001b[0m\u001b[0msub\u001b[0m\u001b[1;33m(\u001b[0m\u001b[1;34m''\u001b[0m\u001b[1;33m,\u001b[0m \u001b[0marticle\u001b[0m\u001b[1;33m)\u001b[0m\u001b[1;33m\u001b[0m\u001b[1;33m\u001b[0m\u001b[0m\n\u001b[0m\u001b[0;32m      5\u001b[0m     \u001b[0mwords\u001b[0m \u001b[1;33m=\u001b[0m \u001b[0mword_tokenize\u001b[0m\u001b[1;33m(\u001b[0m\u001b[0mre_clean\u001b[0m\u001b[1;33m)\u001b[0m\u001b[1;33m\u001b[0m\u001b[1;33m\u001b[0m\u001b[0m\n\u001b[0;32m      6\u001b[0m     \u001b[0mlem\u001b[0m \u001b[1;33m=\u001b[0m \u001b[1;33m[\u001b[0m\u001b[0mlemmatizer\u001b[0m\u001b[1;33m.\u001b[0m\u001b[0mlemmatize\u001b[0m\u001b[1;33m(\u001b[0m\u001b[0mword\u001b[0m\u001b[1;33m)\u001b[0m \u001b[1;32mfor\u001b[0m \u001b[0mword\u001b[0m \u001b[1;32min\u001b[0m \u001b[0mwords\u001b[0m\u001b[1;33m]\u001b[0m\u001b[1;33m\u001b[0m\u001b[1;33m\u001b[0m\u001b[0m\n",
      "\u001b[1;31mTypeError\u001b[0m: expected string or bytes-like object"
     ]
    }
   ],
   "source": [
    "# Generate the Ethereum word cloud\n",
    "big_string = ' '.join(eth_article)\n",
    "input_text = process_text(big_string)"
   ]
  },
  {
   "cell_type": "markdown",
   "metadata": {},
   "source": [
    "---\n",
    "## 3. Named Entity Recognition\n",
    "\n",
    "In this section, you will build a named entity recognition model for both Bitcoin and Ethereum, then visualize the tags using SpaCy."
   ]
  },
  {
   "cell_type": "code",
   "execution_count": 126,
   "metadata": {},
   "outputs": [
    {
     "name": "stdout",
     "output_type": "stream",
     "text": [
      "Collecting spacy\n",
      "  Downloading spacy-3.0.5-cp38-cp38-win_amd64.whl (11.8 MB)\n",
      "Collecting typer<0.4.0,>=0.3.0\n",
      "  Downloading typer-0.3.2-py3-none-any.whl (21 kB)\n",
      "Collecting catalogue<2.1.0,>=2.0.1\n",
      "  Downloading catalogue-2.0.1-py3-none-any.whl (9.6 kB)\n",
      "Collecting pathy>=0.3.5\n",
      "  Downloading pathy-0.4.0-py3-none-any.whl (36 kB)\n",
      "Requirement already satisfied: jinja2 in c:\\users\\tarik\\anaconda3\\lib\\site-packages (from spacy) (2.11.2)\n",
      "Requirement already satisfied: requests<3.0.0,>=2.13.0 in c:\\users\\tarik\\anaconda3\\lib\\site-packages (from spacy) (2.24.0)\n",
      "Collecting pydantic<1.8.0,>=1.7.1\n",
      "  Downloading pydantic-1.7.3-cp38-cp38-win_amd64.whl (1.8 MB)\n",
      "Note: you may need to restart the kernel to use updated packages.\n",
      "Requirement already satisfied: setuptools in c:\\users\\tarik\\anaconda3\\lib\\site-packages (from spacy) (50.3.1.post20201107)\n",
      "Requirement already satisfied: packaging>=20.0 in c:\\users\\tarik\\anaconda3\\lib\\site-packages (from spacy) (20.4)\n",
      "Collecting blis<0.8.0,>=0.4.0\n",
      "  Downloading blis-0.7.4-cp38-cp38-win_amd64.whl (6.5 MB)\n",
      "Collecting murmurhash<1.1.0,>=0.28.0\n",
      "  Downloading murmurhash-1.0.5-cp38-cp38-win_amd64.whl (21 kB)\n",
      "Collecting thinc<8.1.0,>=8.0.2\n",
      "  Downloading thinc-8.0.2-cp38-cp38-win_amd64.whl (1.0 MB)\n",
      "Collecting preshed<3.1.0,>=3.0.2\n",
      "  Downloading preshed-3.0.5-cp38-cp38-win_amd64.whl (112 kB)\n",
      "Collecting wasabi<1.1.0,>=0.8.1\n",
      "  Downloading wasabi-0.8.2-py3-none-any.whl (23 kB)\n",
      "Collecting cymem<2.1.0,>=2.0.2\n",
      "  Downloading cymem-2.0.5-cp38-cp38-win_amd64.whl (36 kB)\n",
      "Collecting srsly<3.0.0,>=2.4.0\n",
      "  Downloading srsly-2.4.0-cp38-cp38-win_amd64.whl (451 kB)\n",
      "Collecting spacy-legacy<3.1.0,>=3.0.0\n",
      "  Downloading spacy_legacy-3.0.1-py2.py3-none-any.whl (7.0 kB)\n",
      "Requirement already satisfied: numpy>=1.15.0 in c:\\users\\tarik\\anaconda3\\lib\\site-packages (from spacy) (1.19.2)\n",
      "Requirement already satisfied: tqdm<5.0.0,>=4.38.0 in c:\\users\\tarik\\anaconda3\\lib\\site-packages (from spacy) (4.51.0)\n",
      "Requirement already satisfied: click<7.2.0,>=7.1.1 in c:\\users\\tarik\\anaconda3\\lib\\site-packages (from typer<0.4.0,>=0.3.0->spacy) (7.1.2)\n",
      "Collecting smart-open<4.0.0,>=2.2.0\n",
      "  Downloading smart_open-3.0.0.tar.gz (113 kB)\n",
      "Requirement already satisfied: MarkupSafe>=0.23 in c:\\users\\tarik\\anaconda3\\lib\\site-packages (from jinja2->spacy) (1.1.1)\n",
      "Requirement already satisfied: idna<3,>=2.5 in c:\\users\\tarik\\anaconda3\\lib\\site-packages (from requests<3.0.0,>=2.13.0->spacy) (2.10)\n",
      "Requirement already satisfied: certifi>=2017.4.17 in c:\\users\\tarik\\anaconda3\\lib\\site-packages (from requests<3.0.0,>=2.13.0->spacy) (2020.12.5)\n",
      "Requirement already satisfied: urllib3!=1.25.0,!=1.25.1,<1.26,>=1.21.1 in c:\\users\\tarik\\anaconda3\\lib\\site-packages (from requests<3.0.0,>=2.13.0->spacy) (1.25.11)\n",
      "Requirement already satisfied: chardet<4,>=3.0.2 in c:\\users\\tarik\\anaconda3\\lib\\site-packages (from requests<3.0.0,>=2.13.0->spacy) (3.0.4)\n",
      "Requirement already satisfied: pyparsing>=2.0.2 in c:\\users\\tarik\\anaconda3\\lib\\site-packages (from packaging>=20.0->spacy) (2.4.7)\n",
      "Requirement already satisfied: six in c:\\users\\tarik\\anaconda3\\lib\\site-packages (from packaging>=20.0->spacy) (1.15.0)\n",
      "Building wheels for collected packages: smart-open\n",
      "  Building wheel for smart-open (setup.py): started\n",
      "  Building wheel for smart-open (setup.py): finished with status 'done'\n",
      "  Created wheel for smart-open: filename=smart_open-3.0.0-py3-none-any.whl size=107101 sha256=56518880c27ae3d91b3c7f8e74ec4fdcc832f454c513a2846e3234d384ff8069\n",
      "  Stored in directory: c:\\users\\tarik\\appdata\\local\\pip\\cache\\wheels\\11\\73\\9a\\f91ac1f1816436b16423617c5be5db048697ff152a9c4346f2\n",
      "Successfully built smart-open\n",
      "Installing collected packages: typer, catalogue, smart-open, pathy, pydantic, blis, murmurhash, wasabi, cymem, preshed, srsly, thinc, spacy-legacy, spacy\n",
      "Successfully installed blis-0.7.4 catalogue-2.0.1 cymem-2.0.5 murmurhash-1.0.5 pathy-0.4.0 preshed-3.0.5 pydantic-1.7.3 smart-open-3.0.0 spacy-3.0.5 spacy-legacy-3.0.1 srsly-2.4.0 thinc-8.0.2 typer-0.3.2 wasabi-0.8.2\n"
     ]
    }
   ],
   "source": [
    "pip install spacy"
   ]
  },
  {
   "cell_type": "code",
   "execution_count": 127,
   "metadata": {},
   "outputs": [],
   "source": [
    "import spacy\n",
    "from spacy import displacy"
   ]
  },
  {
   "cell_type": "code",
   "execution_count": 128,
   "metadata": {},
   "outputs": [
    {
     "name": "stdout",
     "output_type": "stream",
     "text": [
      "Collecting en-core-web-sm==3.0.0\n",
      "  Downloading https://github.com/explosion/spacy-models/releases/download/en_core_web_sm-3.0.0/en_core_web_sm-3.0.0-py3-none-any.whl (13.7 MB)\n",
      "Requirement already satisfied: spacy<3.1.0,>=3.0.0 in c:\\users\\tarik\\anaconda3\\lib\\site-packages (from en-core-web-sm==3.0.0) (3.0.5)\n",
      "Requirement already satisfied: packaging>=20.0 in c:\\users\\tarik\\anaconda3\\lib\\site-packages (from spacy<3.1.0,>=3.0.0->en-core-web-sm==3.0.0) (20.4)\n",
      "Requirement already satisfied: preshed<3.1.0,>=3.0.2 in c:\\users\\tarik\\anaconda3\\lib\\site-packages (from spacy<3.1.0,>=3.0.0->en-core-web-sm==3.0.0) (3.0.5)\n",
      "Requirement already satisfied: spacy-legacy<3.1.0,>=3.0.0 in c:\\users\\tarik\\anaconda3\\lib\\site-packages (from spacy<3.1.0,>=3.0.0->en-core-web-sm==3.0.0) (3.0.1)\n",
      "Requirement already satisfied: murmurhash<1.1.0,>=0.28.0 in c:\\users\\tarik\\anaconda3\\lib\\site-packages (from spacy<3.1.0,>=3.0.0->en-core-web-sm==3.0.0) (1.0.5)\n",
      "Requirement already satisfied: setuptools in c:\\users\\tarik\\anaconda3\\lib\\site-packages (from spacy<3.1.0,>=3.0.0->en-core-web-sm==3.0.0) (50.3.1.post20201107)\n",
      "Requirement already satisfied: wasabi<1.1.0,>=0.8.1 in c:\\users\\tarik\\anaconda3\\lib\\site-packages (from spacy<3.1.0,>=3.0.0->en-core-web-sm==3.0.0) (0.8.2)\n",
      "Requirement already satisfied: catalogue<2.1.0,>=2.0.1 in c:\\users\\tarik\\anaconda3\\lib\\site-packages (from spacy<3.1.0,>=3.0.0->en-core-web-sm==3.0.0) (2.0.1)\n",
      "Requirement already satisfied: cymem<2.1.0,>=2.0.2 in c:\\users\\tarik\\anaconda3\\lib\\site-packages (from spacy<3.1.0,>=3.0.0->en-core-web-sm==3.0.0) (2.0.5)\n",
      "Requirement already satisfied: numpy>=1.15.0 in c:\\users\\tarik\\anaconda3\\lib\\site-packages (from spacy<3.1.0,>=3.0.0->en-core-web-sm==3.0.0) (1.19.2)\n",
      "Requirement already satisfied: blis<0.8.0,>=0.4.0 in c:\\users\\tarik\\anaconda3\\lib\\site-packages (from spacy<3.1.0,>=3.0.0->en-core-web-sm==3.0.0) (0.7.4)\n",
      "Requirement already satisfied: jinja2 in c:\\users\\tarik\\anaconda3\\lib\\site-packages (from spacy<3.1.0,>=3.0.0->en-core-web-sm==3.0.0) (2.11.2)\n",
      "Requirement already satisfied: pydantic<1.8.0,>=1.7.1 in c:\\users\\tarik\\anaconda3\\lib\\site-packages (from spacy<3.1.0,>=3.0.0->en-core-web-sm==3.0.0) (1.7.3)\n",
      "Requirement already satisfied: thinc<8.1.0,>=8.0.2 in c:\\users\\tarik\\anaconda3\\lib\\site-packages (from spacy<3.1.0,>=3.0.0->en-core-web-sm==3.0.0) (8.0.2)\n",
      "Requirement already satisfied: tqdm<5.0.0,>=4.38.0 in c:\\users\\tarik\\anaconda3\\lib\\site-packages (from spacy<3.1.0,>=3.0.0->en-core-web-sm==3.0.0) (4.51.0)\n",
      "Requirement already satisfied: typer<0.4.0,>=0.3.0 in c:\\users\\tarik\\anaconda3\\lib\\site-packages (from spacy<3.1.0,>=3.0.0->en-core-web-sm==3.0.0) (0.3.2)\n",
      "Requirement already satisfied: pathy>=0.3.5 in c:\\users\\tarik\\anaconda3\\lib\\site-packages (from spacy<3.1.0,>=3.0.0->en-core-web-sm==3.0.0) (0.4.0)\n",
      "Requirement already satisfied: srsly<3.0.0,>=2.4.0 in c:\\users\\tarik\\anaconda3\\lib\\site-packages (from spacy<3.1.0,>=3.0.0->en-core-web-sm==3.0.0) (2.4.0)\n",
      "Requirement already satisfied: requests<3.0.0,>=2.13.0 in c:\\users\\tarik\\anaconda3\\lib\\site-packages (from spacy<3.1.0,>=3.0.0->en-core-web-sm==3.0.0) (2.24.0)\n",
      "Requirement already satisfied: six in c:\\users\\tarik\\anaconda3\\lib\\site-packages (from packaging>=20.0->spacy<3.1.0,>=3.0.0->en-core-web-sm==3.0.0) (1.15.0)\n",
      "Requirement already satisfied: pyparsing>=2.0.2 in c:\\users\\tarik\\anaconda3\\lib\\site-packages (from packaging>=20.0->spacy<3.1.0,>=3.0.0->en-core-web-sm==3.0.0) (2.4.7)\n",
      "Requirement already satisfied: MarkupSafe>=0.23 in c:\\users\\tarik\\anaconda3\\lib\\site-packages (from jinja2->spacy<3.1.0,>=3.0.0->en-core-web-sm==3.0.0) (1.1.1)\n",
      "Requirement already satisfied: click<7.2.0,>=7.1.1 in c:\\users\\tarik\\anaconda3\\lib\\site-packages (from typer<0.4.0,>=0.3.0->spacy<3.1.0,>=3.0.0->en-core-web-sm==3.0.0) (7.1.2)\n",
      "Requirement already satisfied: smart-open<4.0.0,>=2.2.0 in c:\\users\\tarik\\anaconda3\\lib\\site-packages (from pathy>=0.3.5->spacy<3.1.0,>=3.0.0->en-core-web-sm==3.0.0) (3.0.0)\n",
      "Requirement already satisfied: chardet<4,>=3.0.2 in c:\\users\\tarik\\anaconda3\\lib\\site-packages (from requests<3.0.0,>=2.13.0->spacy<3.1.0,>=3.0.0->en-core-web-sm==3.0.0) (3.0.4)\n",
      "Requirement already satisfied: idna<3,>=2.5 in c:\\users\\tarik\\anaconda3\\lib\\site-packages (from requests<3.0.0,>=2.13.0->spacy<3.1.0,>=3.0.0->en-core-web-sm==3.0.0) (2.10)\n",
      "Requirement already satisfied: urllib3!=1.25.0,!=1.25.1,<1.26,>=1.21.1 in c:\\users\\tarik\\anaconda3\\lib\\site-packages (from requests<3.0.0,>=2.13.0->spacy<3.1.0,>=3.0.0->en-core-web-sm==3.0.0) (1.25.11)\n",
      "Requirement already satisfied: certifi>=2017.4.17 in c:\\users\\tarik\\anaconda3\\lib\\site-packages (from requests<3.0.0,>=2.13.0->spacy<3.1.0,>=3.0.0->en-core-web-sm==3.0.0) (2020.12.5)\n",
      "Installing collected packages: en-core-web-sm\n",
      "Successfully installed en-core-web-sm-3.0.0\n",
      "[+] Download and installation successful\n",
      "You can now load the package via spacy.load('en_core_web_sm')\n"
     ]
    }
   ],
   "source": [
    "# Download the language model for SpaCy\n",
    "!python -m spacy download en_core_web_sm"
   ]
  },
  {
   "cell_type": "code",
   "execution_count": 130,
   "metadata": {},
   "outputs": [],
   "source": [
    "# Load the spaCy model\n",
    "nlp = spacy.load('en_core_web_sm')"
   ]
  },
  {
   "cell_type": "markdown",
   "metadata": {},
   "source": [
    "---\n",
    "### Bitcoin NER"
   ]
  },
  {
   "cell_type": "code",
   "execution_count": 131,
   "metadata": {},
   "outputs": [],
   "source": [
    "# Concatenate all of the Bitcoin text together\n",
    "articles = btc_article"
   ]
  },
  {
   "cell_type": "code",
   "execution_count": 28,
   "metadata": {},
   "outputs": [],
   "source": [
    "# Run the NER processor on all of the text\n",
    "# YOUR CODE HERE!\n",
    "\n",
    "# Add a title to the document\n",
    "# YOUR CODE HERE!"
   ]
  },
  {
   "cell_type": "code",
   "execution_count": 29,
   "metadata": {},
   "outputs": [],
   "source": [
    "# Render the visualization\n",
    "# YOUR CODE HERE!"
   ]
  },
  {
   "cell_type": "code",
   "execution_count": 30,
   "metadata": {},
   "outputs": [],
   "source": [
    "# List all Entities\n",
    "# YOUR CODE HERE!"
   ]
  },
  {
   "cell_type": "markdown",
   "metadata": {},
   "source": [
    "---"
   ]
  },
  {
   "cell_type": "markdown",
   "metadata": {},
   "source": [
    "### Ethereum NER"
   ]
  },
  {
   "cell_type": "code",
   "execution_count": 31,
   "metadata": {},
   "outputs": [],
   "source": [
    "# Concatenate all of the Ethereum text together\n",
    "# YOUR CODE HERE!"
   ]
  },
  {
   "cell_type": "code",
   "execution_count": 32,
   "metadata": {},
   "outputs": [],
   "source": [
    "# Run the NER processor on all of the text\n",
    "# YOUR CODE HERE!\n",
    "\n",
    "# Add a title to the document\n",
    "# YOUR CODE HERE!"
   ]
  },
  {
   "cell_type": "code",
   "execution_count": 33,
   "metadata": {},
   "outputs": [],
   "source": [
    "# Render the visualization\n",
    "# YOUR CODE HERE!"
   ]
  },
  {
   "cell_type": "code",
   "execution_count": 34,
   "metadata": {},
   "outputs": [],
   "source": [
    "# List all Entities\n",
    "# YOUR CODE HERE!"
   ]
  },
  {
   "cell_type": "markdown",
   "metadata": {},
   "source": [
    "---"
   ]
  }
 ],
 "metadata": {
  "file_extension": ".py",
  "kernelspec": {
   "display_name": "Python 3",
   "language": "python",
   "name": "python3"
  },
  "language_info": {
   "codemirror_mode": {
    "name": "ipython",
    "version": 3
   },
   "file_extension": ".py",
   "mimetype": "text/x-python",
   "name": "python",
   "nbconvert_exporter": "python",
   "pygments_lexer": "ipython3",
   "version": "3.8.5"
  },
  "mimetype": "text/x-python",
  "name": "python",
  "npconvert_exporter": "python",
  "pygments_lexer": "ipython3",
  "version": 3
 },
 "nbformat": 4,
 "nbformat_minor": 4
}
